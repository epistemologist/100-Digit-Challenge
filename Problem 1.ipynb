{
 "cells": [
  {
   "cell_type": "markdown",
   "metadata": {
    "id": "wc7L7dzG7D19"
   },
   "source": [
    "# Problem 1"
   ]
  },
  {
   "cell_type": "markdown",
   "metadata": {
    "id": "L6RGyGJH7D1-"
   },
   "source": [
    "What is $ \\lim_{\\epsilon\\to0} \\int_\\epsilon^1 x^{-1} \\cos(x^{-1} \\log x) dx $ ? "
   ]
  },
  {
   "cell_type": "code",
   "execution_count": 1,
   "metadata": {
    "id": "Y0rADprz7D1_"
   },
   "outputs": [],
   "source": [
    "import matplotlib.pyplot as plt\n",
    "import numpy as np\n",
    "import scipy\n",
    "from math import pi\n",
    "from numpy import cos, log\n",
    "from tqdm import tqdm_notebook as tqdm"
   ]
  },
  {
   "cell_type": "markdown",
   "metadata": {
    "id": "q0YFG9H37D2D"
   },
   "source": [
    "Let $f(x) =  x^{-1}  \\cos(x^{-1} \\log x) $ be our integrand."
   ]
  },
  {
   "cell_type": "code",
   "execution_count": 2,
   "metadata": {
    "id": "lExnZkKb7D2E",
    "outputId": "f0f07ee6-cb96-4151-c7f0-fde3413568e3"
   },
   "outputs": [
    {
     "data": {
      "image/png": "[encoded data removed]",
      "text/plain": [
       "<Figure size 640x480 with 1 Axes>"
      ]
     },
     "metadata": {},
     "output_type": "display_data"
    }
   ],
   "source": [
    "f = lambda x: cos(log(x)/x)/x\n",
    "x = np.linspace(0.02,1,10000)\n",
    "y = f(x)\n",
    "fig = plt.figure()\n",
    "ax = fig.add_subplot(1, 1, 1)\n",
    "ax.spines['bottom'].set_position('zero')\n",
    "ax.spines['right'].set_color('none')\n",
    "ax.spines['top'].set_color('none')\n",
    "ax.xaxis.set_ticks_position('bottom')\n",
    "ax.yaxis.set_ticks_position('left')\n",
    "plt.plot(x,y)\n",
    "plt.show()"
   ]
  },
  {
   "cell_type": "markdown",
   "metadata": {
    "id": "lb9DXWvg7D2H"
   },
   "source": [
    "As we can see, the integrand is very ill-behaved and oscillates a lot - therefore typical numerical integration algorithms may not work that well. Nonetheless, we will try that as a first attempt."
   ]
  },
  {
   "cell_type": "markdown",
   "metadata": {
    "id": "zRrlwv9D7D2H"
   },
   "source": [
    "## Method 1: Integrating as-is"
   ]
  },
  {
   "cell_type": "code",
   "execution_count": 3,
   "metadata": {
    "id": "pbu8fKkM7D2I",
    "outputId": "d2aa2c4b-a518-4f40-f7e8-506fd2dfeb4e"
   },
   "outputs": [
    {
     "name": "stderr",
     "output_type": "stream",
     "text": [
      "/tmp/ipykernel_88714/4081173682.py:2: IntegrationWarning: The integral is probably divergent, or slowly convergent.\n",
      "  integrate.quad(f,0,1)\n"
     ]
    },
    {
     "data": {
      "text/plain": [
       "(1.2716741383488144, 1.9276166879370535)"
      ]
     },
     "execution_count": 3,
     "metadata": {},
     "output_type": "execute_result"
    }
   ],
   "source": [
    "from scipy import integrate\n",
    "integrate.quad(f,0,1)"
   ]
  },
  {
   "cell_type": "markdown",
   "metadata": {
    "id": "DAAYNIfy7D2L"
   },
   "source": [
    "As expected, this does not work as the integral is not well-behaved (note the given warning and that the error estimate is larger than the value it got for the integral itself).\n",
    "\n",
    "However, since the integral is well behaved between its zeros, we can have points $ 0 = x_0 < x_1 < \\cdots < x_{N-1}  < x_N = 1 $ where $f(x_i) = 0 $ for $0 < i < N$ .\n",
    "\n",
    "We therefore have:\n",
    "\n",
    "$$ \\int_{0}^1 f(x) dx = \\sum_{i=0}^{N-1} \\left( \\int_{x_i}^{x_{i+1}} f(x) dx \\right) $$\n",
    " \n",
    "where the integrand over each $[x_{i}, x_{i+1}]$ is well-behaved. We have:\n",
    "\n",
    "\n",
    "$$\\begin{align*}\n",
    "f(x) = 0 &\\implies \\cos(x^{-1} \\log{x}) = 0 \\\\\n",
    "&\\implies x^{-1} \\log{x} = \\pi\\left(n-\\frac{1}{2}\\right), n \\in \\mathbb{Z}_{<0} \\\\\n",
    "&\\implies x = e^{-W\\left(\\frac{\\pi}{2} - n\\pi\\right)}\n",
    "\\end{align*}$$\n",
    "\n",
    "where $ W(x) $ is the [Lambert W function](https://en.wikipedia.org/wiki/Lambert_W_function). An implementation of this is below (note that we only use floating point precision):"
   ]
  },
  {
   "cell_type": "code",
   "execution_count": 4,
   "metadata": {
    "id": "zBdIqgIv7D2L",
    "outputId": "298df7f8-0acf-4f7c-8b45-c28908938d9d"
   },
   "outputs": [
    {
     "name": "stderr",
     "output_type": "stream",
     "text": [
      "/tmp/ipykernel_88714/502815136.py:8: TqdmDeprecationWarning: This function will be removed in tqdm==5.0.0\n",
      "Please use `tqdm.notebook.tqdm` instead of `tqdm.tqdm_notebook`\n",
      "  intervals = [integrate.quad(f, nth_zero(i), nth_zero(i+1)) for i in tqdm(range(0, -100000, -1)) ]\n"
     ]
    },
    {
     "data": {
      "application/vnd.jupyter.widget-view+json": {
       "model_id": "326250febd69459eb4d5926239c7ca24",
       "version_major": 2,
       "version_minor": 0
      },
      "text/plain": [
       "  0%|          | 0/100000 [00:00<?, ?it/s]"
      ]
     },
     "metadata": {},
     "output_type": "display_data"
    },
    {
     "name": "stderr",
     "output_type": "stream",
     "text": [
      "/tmp/ipykernel_88714/502815136.py:5: ComplexWarning: Casting complex values to real discards the imaginary part\n",
      "  return exp(-lambertw(pi/2-n*pi)).real\n"
     ]
    },
    {
     "data": {
      "text/plain": [
       "(0.32336452967614154, 9.410465197082566e-13)"
      ]
     },
     "execution_count": 4,
     "metadata": {},
     "output_type": "execute_result"
    }
   ],
   "source": [
    "from scipy.special import lambertw\n",
    "from math import pi, exp\n",
    "\n",
    "def nth_zero(n):\n",
    "    return exp(-lambertw(pi/2-n*pi)).real\n",
    "\n",
    "\n",
    "intervals = [integrate.quad(f, nth_zero(i), nth_zero(i+1)) for i in tqdm(range(0, -100000, -1)) ]\n",
    "integral_val = sum([i[0] for i in intervals])\n",
    "error = sum([i[1] for i in intervals])\n",
    "\n",
    "integral_val, error"
   ]
  },
  {
   "cell_type": "markdown",
   "metadata": {
    "id": "mgItcC3V7D2R"
   },
   "source": [
    "Note that there is a problem with this approach: namely, the closer that we get to 0, the more the integrand diverges - therefore, the more accurate value we want, the more subintervals we need to integrate over. We also have to worry about the error terms of calculating the functions of each of the values, so it would be nicer if we calculated just one integral instead.\n",
    "\n",
    "**EXERCISE**: Is there any way we can bound the error with this method? We have:\n",
    "\n",
    "$$ \\int_0^1 f(x) dx \\approx \\int_\\epsilon^1 f(x) dx $$ however, what bounds can we place on the error term $\\int_0^\\epsilon f(x) dx  $ ?"
   ]
  },
  {
   "cell_type": "markdown",
   "metadata": {
    "id": "ZsJeKC1-7D2S"
   },
   "source": [
    "## Method 2: Complex integration"
   ]
  },
  {
   "cell_type": "markdown",
   "metadata": {
    "id": "LK2OrJzi7D2T"
   },
   "source": [
    "We have that\n",
    "\n",
    "$$ \\begin{align*} \n",
    "\\int_0^1 \\frac{\\cos(x^{-1} \\log{x})}{x} dx &= \\int_0^1 \\Re\\left(\\frac{e^{i(\\log{z}/z)}}{z}\\right) \\\\\n",
    "& = \\int_0^1 \\Re(z^{-1+i/z}) \\\\\n",
    "&= \\Re\\left(\\int_0^1 z^{-1+i/z}\\right) \\\\\n",
    "&= \\Re\\left(\\int_C z^{-1+i/z}\\right) \\\\\n",
    "\\\\ \n",
    "\\end{align*}\n",
    "$$ \n",
    "\n",
    "where $C$ is a contour from $z = 0 $ to $z = 1 $ such that the integrand is analytic on the whole contour. \n",
    "\n",
    "We use a semicircle oriented clockwise centered at $z = \\frac{1}{2}  $ on the complex plane with a radius of $\\frac{1}{2} $ . This can be parametrized with the map \n",
    "$ r: [0, \\pi] \\to \\mathbb{C} \\;,  r(\\theta) = \\frac{1}{2} - \\frac{1}{2}e^{-i\\theta}$\n",
    "\n",
    "Substituting this in, we have our integral is\n",
    "\n",
    "$$ \\Re\\left(\\int_C z^{-1+i/z}\\right) = \\Re \\left( \\int_0^\\pi   \\frac{ie^{-it}}{1-e^{-it}} \\left(\\frac{1-e^{-it}}{2}\\right)^{\\frac{2i}{1-e^{-it}}} dt  \\right)   $$"
   ]
  },
  {
   "cell_type": "code",
   "execution_count": 5,
   "metadata": {
    "id": "GcACwRMw7D2U",
    "outputId": "5a0ac6f5-9b90-4ffd-fe6e-320878cf0684",
    "scrolled": true
   },
   "outputs": [
    {
     "name": "stdout",
     "output_type": "stream",
     "text": [
      "CPU times: user 3.86 ms, sys: 240 µs, total: 4.1 ms\n",
      "Wall time: 5.6 ms\n"
     ]
    },
    {
     "name": "stderr",
     "output_type": "stream",
     "text": [
      "/home/husnain/Desktop/RandomProjects/100-Digit-Challenge/venv/lib/python3.10/site-packages/scipy/integrate/_quadpack_py.py:523: ComplexWarning: Casting complex values to real discards the imaginary part\n",
      "  return _quadpack._qagse(func,a,b,args,full_output,epsabs,epsrel,limit)\n"
     ]
    },
    {
     "data": {
      "text/plain": [
       "(0.3233674316777749, 5.940167106104359e-09)"
      ]
     },
     "execution_count": 5,
     "metadata": {},
     "output_type": "execute_result"
    }
   ],
   "source": [
    "from numpy import exp\n",
    "\n",
    "ex = lambda t: exp(1j*t)\n",
    "integrand = lambda t: 1j*ex(-t)/(1-ex(-t)) * (0.5*(1-ex(-t)))**(2j/(1-ex(-t)))\n",
    "\n",
    "%time integrate.quad(integrand,0,pi)"
   ]
  },
  {
   "cell_type": "markdown",
   "metadata": {
    "id": "zZL0ec247D2X"
   },
   "source": [
    "Note that this is much faster than the previous method as there is only one integral to evaluate - we also get the 10 digits that we need. We can get further digits by using an extended precision library like `mpmath`:"
   ]
  },
  {
   "cell_type": "code",
   "execution_count": 6,
   "metadata": {
    "id": "KjqEdruo7D2Y",
    "outputId": "70b4520e-1ecf-40a4-e217-a19a08f2ab4d",
    "scrolled": true
   },
   "outputs": [
    {
     "name": "stdout",
     "output_type": "stream",
     "text": [
      "CPU times: user 9min 21s, sys: 1.21 s, total: 9min 22s\n",
      "Wall time: 9min 33s\n",
      "0.3233674316777787613993700879521704466510466257254696616810364434317903372106728944319303704641024513802805273312171512843329551003343518853814345933849959100496203187230243755305850326867826084814143621008284544722325433197423289562208383036051806138170228875927796223889414194808897786277656720091636325480930062612368830709515617259626227109122796181848626492520354425805878303512878922713506176972504363427324278062698195459935937934948703377003993887895844494193853252470105126349141166869280842967050545084228387406907420047518022017247554109230583360447095045817596946489788630167768426091736144508596750494011596931816971587028572107158052888912310396674019547711228705979109046809875599383142853899314897723348536769454368361557868526285246345537463616787033605541989910530337300290559520490910138131952127532519967705188100783651118877283568747500960917691186552933459664209305926699509607663216838251160999002569152976749531082493203607852959693352367456372093026716239528268235600132382543 1.0e-1761\n"
     ]
    }
   ],
   "source": [
    "from mpmath import mp, mpf, mpc, exp, quad, pi\n",
    "mp.dps = 1000\n",
    "ex = lambda t: exp(mpc(0,1)*t)\n",
    "integrand = lambda t: mpc(0,1)*ex(-t)/(1-ex(-t)) * (mpf(\"0.5\")*(1-ex(-t)))**(mpc(0,2)/(1-ex(-t)))\n",
    "%time result, error = quad(integrand, [0,pi], error=True)\n",
    "print(result.real, error)"
   ]
  }
 ],
 "metadata": {
  "colab": {
   "name": "Problem 1.ipynb",
   "provenance": []
  },
  "kernelspec": {
   "display_name": "Python 3 (ipykernel)",
   "language": "python",
   "name": "python3"
  },
  "language_info": {
   "codemirror_mode": {
    "name": "ipython",
    "version": 3
   },
   "file_extension": ".py",
   "mimetype": "text/x-python",
   "name": "python",
   "nbconvert_exporter": "python",
   "pygments_lexer": "ipython3",
   "version": "3.10.6"
  }
 },
 "nbformat": 4,
 "nbformat_minor": 1
}
