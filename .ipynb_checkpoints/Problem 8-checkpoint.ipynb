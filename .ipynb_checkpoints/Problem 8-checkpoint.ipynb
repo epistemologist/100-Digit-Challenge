{
 "cells": [
  {
   "cell_type": "markdown",
   "metadata": {
    "id": "0kwSi3sZmvc8"
   },
   "source": [
    "# Problem 8\n",
    "A square plate $[-1,1]\\times[-1,1]$ is at temperature $u = 0$. At time $t = 0$, the temperature is increased to $u=5$ along one of the four sides while being held at $u=0$ on the other three sides, and heat then flows into the flate according to $u_t = \\Delta u$. When does the temperature reach $u=1$ at the center of the plate?"
   ]
  },
  {
   "cell_type": "markdown",
   "metadata": {
    "id": "Ii9TnlShLMYB"
   },
   "source": [
    "### Attempt 1: Finite Difference Method\n",
    "\n"
   ]
  },
  {
   "cell_type": "markdown",
   "metadata": {
    "id": "QpOox-UlmTDu"
   },
   "source": [
    "Note that we have by the definition of a derivative that \n",
    "\n",
    "$$ \\frac{\\partial u}{\\partial t} = \\lim_{\\Delta t \\rightarrow 0} \\frac{u(x,y,t+\\Delta t)-u(x,y,t)}{\\Delta t}$$\n",
    "\n",
    "so we can approxmiate $\\frac{\\partial u}{\\partial t} $ by simply ignoring the limit and making $\\Delta t$ sufficiently small.\n",
    "\n",
    "Similarly, we can approximate the second derivative of a function $f(x)$ as follows:\n",
    "\n",
    "$$f(x+\\Delta x) = f(x) + \\Delta x \\cdot f'(x) + \\frac{(\\Delta x)^2}{2!} f''(x) + \\frac{(\\Delta x)^3}{3!} f^{(3)}(x) + O((\\Delta x)^4) $$\n",
    "\n",
    "$$f(x-\\Delta x) = f(x) - \\Delta x \\cdot f'(x) + \\frac{(\\Delta x)^2}{2!} f''(x) - \\frac{(\\Delta x)^3}{3!} f^{(3)}(x) + O((\\Delta x)^4) $$\n",
    "\n",
    "$$\\implies f(x+\\Delta x) + f(x-\\Delta x) = 2f(x) + (\\Delta x)^2 f''(x) $$\n",
    "\n",
    "Therefore, we have that $$ \\frac{d^2 f}{d x^2} = \\lim_{\\Delta x \\rightarrow 0} \\frac{f(x + \\Delta{x}) - 2f(x) + f(x-\\Delta x)c}{(\\Delta x)^2}$$\n",
    "\n",
    "We can use these approximations to discretize the given problem. More information and the code that this is modified from can be found [here](https://lorenabarba.com/blog/cfd-python-12-steps-to-navier-stokes/#:~:text=The%20module%20is%20called%20%2212%20steps%20to%20Navier-Stokes,her%20students%20over%20several%20semesters%20teaching%20the%20course.)"
   ]
  },
  {
   "cell_type": "code",
   "execution_count": null,
   "metadata": {
    "colab": {
     "base_uri": "https://localhost:8080/",
     "height": 298
    },
    "executionInfo": {
     "elapsed": 31981,
     "status": "ok",
     "timestamp": 1604794427911,
     "user": {
      "displayName": "Husnain Raza",
      "photoUrl": "",
      "userId": "16146658556003895350"
     },
     "user_tz": 360
    },
    "id": "CiiOmeI0Jrwn",
    "outputId": "1d84ea25-a91d-4028-ad28-35d96b755f4c"
   },
   "outputs": [
    {
     "name": "stderr",
     "output_type": "stream",
     "text": [
      "100%|██████████| 50000/50000 [00:31<00:00, 1585.56it/s]\n"
     ]
    },
    {
     "data": {
      "image/png": "[encoded data removed]",
      "text/plain": [
       "<Figure size 432x288 with 1 Axes>"
      ]
     },
     "metadata": {
      "needs_background": "light",
      "tags": []
     },
     "output_type": "display_data"
    },
    {
     "name": "stdout",
     "output_type": "stream",
     "text": [
      "(0.43256483422135805, 1.0000113247900924)\n"
     ]
    }
   ],
   "source": [
    "import numpy as np\n",
    "import matplotlib.pyplot as plt\n",
    "import tqdm\n",
    "nx = ny = 200\n",
    "nu = 1\n",
    "dx = 2 / (nx - 1)\n",
    "dy = 2 / (ny - 1)\n",
    "sigma = 0.25\n",
    "dt = sigma * dx * dy / nu\n",
    "\n",
    "x = np.linspace(0, 2, nx)\n",
    "y = np.linspace(0, 2, ny)\n",
    "\n",
    "u = np.zeros((ny, nx))\n",
    "un = np.zeros((ny, nx))\n",
    "\n",
    "time_elapsed = []\n",
    "center_temp = []\n",
    "\n",
    "for i in tqdm.tqdm(range(50000)):\n",
    "    un = u.copy()\n",
    "    u[1:-1, 1:-1] = (un[1:-1,1:-1] + \n",
    "                    nu * dt / dx**2 * \n",
    "                    (un[1:-1, 2:] - 2 * un[1:-1, 1:-1] + un[1:-1, 0:-2]) +\n",
    "                    nu * dt / dy**2 * \n",
    "                    (un[2:,1: -1] - 2 * un[1:-1, 1:-1] + un[0:-2, 1:-1]))\n",
    "    u[0,:] = 5\n",
    "    u[-1,:] = 0\n",
    "    u[:,0] = 0\n",
    "    u[:,-1] = 0\n",
    "    time_elapsed.append(dt*i)\n",
    "    center_temp.append(u[nx//2,ny//2])\n",
    "plt.plot(time_elapsed, center_temp)\n",
    "plt.show()\n",
    "print(min([(time_elapsed[i], center_temp[i]) for i in range(len(time_elapsed))], key = lambda x: abs(1-x[1])))"
   ]
  },
  {
   "cell_type": "markdown",
   "metadata": {
    "id": "6eQoZzQDHnlg"
   },
   "source": [
    "#### Plotting heat flow"
   ]
  },
  {
   "cell_type": "code",
   "execution_count": null,
   "metadata": {
    "colab": {
     "base_uri": "https://localhost:8080/",
     "height": 1000
    },
    "executionInfo": {
     "elapsed": 144524,
     "status": "error",
     "timestamp": 1604816698265,
     "user": {
      "displayName": "Husnain Raza",
      "photoUrl": "",
      "userId": "16146658556003895350"
     },
     "user_tz": 360
    },
    "id": "9xe3oS_sN8NV",
    "outputId": "39a407bf-7a6f-4c84-937f-32df886920d9"
   },
   "outputs": [
    {
     "name": "stdout",
     "output_type": "stream",
     "text": [
      "0\n",
      "10\n",
      "20\n",
      "30\n",
      "40\n",
      "50\n",
      "60\n",
      "70\n",
      "80\n",
      "90\n",
      "100\n",
      "110\n",
      "120\n",
      "130\n",
      "140\n",
      "150\n",
      "160\n",
      "170\n",
      "180\n",
      "190\n",
      "200\n",
      "210\n",
      "220\n",
      "230\n",
      "240\n",
      "250\n",
      "260\n",
      "270\n",
      "280\n",
      "290\n",
      "300\n",
      "310\n",
      "320\n",
      "330\n",
      "340\n",
      "350\n",
      "360\n",
      "370\n",
      "380\n",
      "390\n",
      "400\n",
      "410\n",
      "420\n",
      "430\n",
      "440\n",
      "450\n",
      "460\n",
      "470\n",
      "480\n",
      "490\n",
      "500\n",
      "510\n",
      "520\n",
      "530\n",
      "540\n",
      "550\n",
      "560\n",
      "570\n",
      "580\n",
      "590\n",
      "600\n",
      "610\n",
      "620\n",
      "630\n",
      "640\n",
      "650\n",
      "660\n",
      "670\n",
      "680\n",
      "690\n",
      "700\n",
      "710\n",
      "720\n"
     ]
    },
    {
     "ename": "KeyboardInterrupt",
     "evalue": "ignored",
     "output_type": "error",
     "traceback": [
      "\u001b[0;31m---------------------------------------------------------------------------\u001b[0m",
      "\u001b[0;31mKeyboardInterrupt\u001b[0m                         Traceback (most recent call last)",
      "\u001b[0;32m<ipython-input-2-c0f780b36922>\u001b[0m in \u001b[0;36m<module>\u001b[0;34m()\u001b[0m\n\u001b[1;32m     34\u001b[0m \u001b[0;32mfor\u001b[0m \u001b[0mi\u001b[0m \u001b[0;32min\u001b[0m \u001b[0mrange\u001b[0m\u001b[0;34m(\u001b[0m\u001b[0;36m10000\u001b[0m\u001b[0;34m)\u001b[0m\u001b[0;34m:\u001b[0m\u001b[0;34m\u001b[0m\u001b[0;34m\u001b[0m\u001b[0m\n\u001b[1;32m     35\u001b[0m     \u001b[0;32mif\u001b[0m \u001b[0mi\u001b[0m\u001b[0;34m%\u001b[0m\u001b[0;36m10\u001b[0m\u001b[0;34m==\u001b[0m\u001b[0;36m0\u001b[0m\u001b[0;34m:\u001b[0m \u001b[0mprint\u001b[0m\u001b[0;34m(\u001b[0m\u001b[0mi\u001b[0m\u001b[0;34m)\u001b[0m\u001b[0;34m\u001b[0m\u001b[0;34m\u001b[0m\u001b[0m\n\u001b[0;32m---> 36\u001b[0;31m     \u001b[0mims\u001b[0m\u001b[0;34m.\u001b[0m\u001b[0mappend\u001b[0m\u001b[0;34m(\u001b[0m\u001b[0mupdate\u001b[0m\u001b[0;34m(\u001b[0m\u001b[0;34m)\u001b[0m\u001b[0;34m)\u001b[0m\u001b[0;34m\u001b[0m\u001b[0;34m\u001b[0m\u001b[0m\n\u001b[0m\u001b[1;32m     37\u001b[0m ani = animation.ArtistAnimation(fig, ims, interval=50, blit=True,\n\u001b[1;32m     38\u001b[0m     repeat_delay=1000)\n",
      "\u001b[0;32m<ipython-input-2-c0f780b36922>\u001b[0m in \u001b[0;36mupdate\u001b[0;34m()\u001b[0m\n\u001b[1;32m     30\u001b[0m     \u001b[0mu\u001b[0m\u001b[0;34m[\u001b[0m\u001b[0;34m:\u001b[0m\u001b[0;34m,\u001b[0m\u001b[0;36m0\u001b[0m\u001b[0;34m]\u001b[0m \u001b[0;34m=\u001b[0m \u001b[0;36m0\u001b[0m\u001b[0;34m\u001b[0m\u001b[0;34m\u001b[0m\u001b[0m\n\u001b[1;32m     31\u001b[0m     \u001b[0mu\u001b[0m\u001b[0;34m[\u001b[0m\u001b[0;34m:\u001b[0m\u001b[0;34m,\u001b[0m\u001b[0;34m-\u001b[0m\u001b[0;36m1\u001b[0m\u001b[0;34m]\u001b[0m \u001b[0;34m=\u001b[0m \u001b[0;36m0\u001b[0m\u001b[0;34m\u001b[0m\u001b[0;34m\u001b[0m\u001b[0m\n\u001b[0;32m---> 32\u001b[0;31m     \u001b[0;32mreturn\u001b[0m \u001b[0;34m[\u001b[0m\u001b[0max\u001b[0m\u001b[0;34m.\u001b[0m\u001b[0mimshow\u001b[0m\u001b[0;34m(\u001b[0m\u001b[0mu\u001b[0m\u001b[0;34m,\u001b[0m \u001b[0mcmap\u001b[0m\u001b[0;34m=\u001b[0m\u001b[0;34m\"hot\"\u001b[0m\u001b[0;34m,\u001b[0m\u001b[0minterpolation\u001b[0m\u001b[0;34m=\u001b[0m\u001b[0;34m'nearest'\u001b[0m\u001b[0;34m,\u001b[0m \u001b[0maspect\u001b[0m\u001b[0;34m=\u001b[0m\u001b[0;34m'auto'\u001b[0m\u001b[0;34m)\u001b[0m\u001b[0;34m]\u001b[0m\u001b[0;34m\u001b[0m\u001b[0;34m\u001b[0m\u001b[0m\n\u001b[0m\u001b[1;32m     33\u001b[0m \u001b[0mims\u001b[0m \u001b[0;34m=\u001b[0m \u001b[0;34m[\u001b[0m\u001b[0;34m]\u001b[0m\u001b[0;34m\u001b[0m\u001b[0;34m\u001b[0m\u001b[0m\n\u001b[1;32m     34\u001b[0m \u001b[0;32mfor\u001b[0m \u001b[0mi\u001b[0m \u001b[0;32min\u001b[0m \u001b[0mrange\u001b[0m\u001b[0;34m(\u001b[0m\u001b[0;36m10000\u001b[0m\u001b[0;34m)\u001b[0m\u001b[0;34m:\u001b[0m\u001b[0;34m\u001b[0m\u001b[0;34m\u001b[0m\u001b[0m\n",
      "\u001b[0;32m/usr/local/lib/python3.6/dist-packages/matplotlib/__init__.py\u001b[0m in \u001b[0;36minner\u001b[0;34m(ax, data, *args, **kwargs)\u001b[0m\n\u001b[1;32m   1563\u001b[0m     \u001b[0;32mdef\u001b[0m \u001b[0minner\u001b[0m\u001b[0;34m(\u001b[0m\u001b[0max\u001b[0m\u001b[0;34m,\u001b[0m \u001b[0;34m*\u001b[0m\u001b[0margs\u001b[0m\u001b[0;34m,\u001b[0m \u001b[0mdata\u001b[0m\u001b[0;34m=\u001b[0m\u001b[0;32mNone\u001b[0m\u001b[0;34m,\u001b[0m \u001b[0;34m**\u001b[0m\u001b[0mkwargs\u001b[0m\u001b[0;34m)\u001b[0m\u001b[0;34m:\u001b[0m\u001b[0;34m\u001b[0m\u001b[0;34m\u001b[0m\u001b[0m\n\u001b[1;32m   1564\u001b[0m         \u001b[0;32mif\u001b[0m \u001b[0mdata\u001b[0m \u001b[0;32mis\u001b[0m \u001b[0;32mNone\u001b[0m\u001b[0;34m:\u001b[0m\u001b[0;34m\u001b[0m\u001b[0;34m\u001b[0m\u001b[0m\n\u001b[0;32m-> 1565\u001b[0;31m             \u001b[0;32mreturn\u001b[0m \u001b[0mfunc\u001b[0m\u001b[0;34m(\u001b[0m\u001b[0max\u001b[0m\u001b[0;34m,\u001b[0m \u001b[0;34m*\u001b[0m\u001b[0mmap\u001b[0m\u001b[0;34m(\u001b[0m\u001b[0msanitize_sequence\u001b[0m\u001b[0;34m,\u001b[0m \u001b[0margs\u001b[0m\u001b[0;34m)\u001b[0m\u001b[0;34m,\u001b[0m \u001b[0;34m**\u001b[0m\u001b[0mkwargs\u001b[0m\u001b[0;34m)\u001b[0m\u001b[0;34m\u001b[0m\u001b[0;34m\u001b[0m\u001b[0m\n\u001b[0m\u001b[1;32m   1566\u001b[0m \u001b[0;34m\u001b[0m\u001b[0m\n\u001b[1;32m   1567\u001b[0m         \u001b[0mbound\u001b[0m \u001b[0;34m=\u001b[0m \u001b[0mnew_sig\u001b[0m\u001b[0;34m.\u001b[0m\u001b[0mbind\u001b[0m\u001b[0;34m(\u001b[0m\u001b[0max\u001b[0m\u001b[0;34m,\u001b[0m \u001b[0;34m*\u001b[0m\u001b[0margs\u001b[0m\u001b[0;34m,\u001b[0m \u001b[0;34m**\u001b[0m\u001b[0mkwargs\u001b[0m\u001b[0;34m)\u001b[0m\u001b[0;34m\u001b[0m\u001b[0;34m\u001b[0m\u001b[0m\n",
      "\u001b[0;32m/usr/local/lib/python3.6/dist-packages/matplotlib/cbook/deprecation.py\u001b[0m in \u001b[0;36mwrapper\u001b[0;34m(*args, **kwargs)\u001b[0m\n\u001b[1;32m    356\u001b[0m                 \u001b[0;34mf\"%(removal)s.  If any parameter follows {name!r}, they \"\u001b[0m\u001b[0;34m\u001b[0m\u001b[0;34m\u001b[0m\u001b[0m\n\u001b[1;32m    357\u001b[0m                 f\"should be pass as keyword, not positionally.\")\n\u001b[0;32m--> 358\u001b[0;31m         \u001b[0;32mreturn\u001b[0m \u001b[0mfunc\u001b[0m\u001b[0;34m(\u001b[0m\u001b[0;34m*\u001b[0m\u001b[0margs\u001b[0m\u001b[0;34m,\u001b[0m \u001b[0;34m**\u001b[0m\u001b[0mkwargs\u001b[0m\u001b[0;34m)\u001b[0m\u001b[0;34m\u001b[0m\u001b[0;34m\u001b[0m\u001b[0m\n\u001b[0m\u001b[1;32m    359\u001b[0m \u001b[0;34m\u001b[0m\u001b[0m\n\u001b[1;32m    360\u001b[0m     \u001b[0;32mreturn\u001b[0m \u001b[0mwrapper\u001b[0m\u001b[0;34m\u001b[0m\u001b[0;34m\u001b[0m\u001b[0m\n",
      "\u001b[0;32m/usr/local/lib/python3.6/dist-packages/matplotlib/cbook/deprecation.py\u001b[0m in \u001b[0;36mwrapper\u001b[0;34m(*args, **kwargs)\u001b[0m\n\u001b[1;32m    356\u001b[0m                 \u001b[0;34mf\"%(removal)s.  If any parameter follows {name!r}, they \"\u001b[0m\u001b[0;34m\u001b[0m\u001b[0;34m\u001b[0m\u001b[0m\n\u001b[1;32m    357\u001b[0m                 f\"should be pass as keyword, not positionally.\")\n\u001b[0;32m--> 358\u001b[0;31m         \u001b[0;32mreturn\u001b[0m \u001b[0mfunc\u001b[0m\u001b[0;34m(\u001b[0m\u001b[0;34m*\u001b[0m\u001b[0margs\u001b[0m\u001b[0;34m,\u001b[0m \u001b[0;34m**\u001b[0m\u001b[0mkwargs\u001b[0m\u001b[0;34m)\u001b[0m\u001b[0;34m\u001b[0m\u001b[0;34m\u001b[0m\u001b[0m\n\u001b[0m\u001b[1;32m    359\u001b[0m \u001b[0;34m\u001b[0m\u001b[0m\n\u001b[1;32m    360\u001b[0m     \u001b[0;32mreturn\u001b[0m \u001b[0mwrapper\u001b[0m\u001b[0;34m\u001b[0m\u001b[0;34m\u001b[0m\u001b[0m\n",
      "\u001b[0;32m/usr/local/lib/python3.6/dist-packages/matplotlib/axes/_axes.py\u001b[0m in \u001b[0;36mimshow\u001b[0;34m(self, X, cmap, norm, aspect, interpolation, alpha, vmin, vmax, origin, extent, shape, filternorm, filterrad, imlim, resample, url, **kwargs)\u001b[0m\n\u001b[1;32m   5637\u001b[0m         \u001b[0;31m# update ax.dataLim, and, if autoscaling, set viewLim\u001b[0m\u001b[0;34m\u001b[0m\u001b[0;34m\u001b[0m\u001b[0;34m\u001b[0m\u001b[0m\n\u001b[1;32m   5638\u001b[0m         \u001b[0;31m# to tightly fit the image, regardless of dataLim.\u001b[0m\u001b[0;34m\u001b[0m\u001b[0;34m\u001b[0m\u001b[0;34m\u001b[0m\u001b[0m\n\u001b[0;32m-> 5639\u001b[0;31m         \u001b[0mim\u001b[0m\u001b[0;34m.\u001b[0m\u001b[0mset_extent\u001b[0m\u001b[0;34m(\u001b[0m\u001b[0mim\u001b[0m\u001b[0;34m.\u001b[0m\u001b[0mget_extent\u001b[0m\u001b[0;34m(\u001b[0m\u001b[0;34m)\u001b[0m\u001b[0;34m)\u001b[0m\u001b[0;34m\u001b[0m\u001b[0;34m\u001b[0m\u001b[0m\n\u001b[0m\u001b[1;32m   5640\u001b[0m \u001b[0;34m\u001b[0m\u001b[0m\n\u001b[1;32m   5641\u001b[0m         \u001b[0mself\u001b[0m\u001b[0;34m.\u001b[0m\u001b[0madd_image\u001b[0m\u001b[0;34m(\u001b[0m\u001b[0mim\u001b[0m\u001b[0;34m)\u001b[0m\u001b[0;34m\u001b[0m\u001b[0;34m\u001b[0m\u001b[0m\n",
      "\u001b[0;32m/usr/local/lib/python3.6/dist-packages/matplotlib/image.py\u001b[0m in \u001b[0;36mset_extent\u001b[0;34m(self, extent)\u001b[0m\n\u001b[1;32m    949\u001b[0m             \u001b[0mself\u001b[0m\u001b[0;34m.\u001b[0m\u001b[0maxes\u001b[0m\u001b[0;34m.\u001b[0m\u001b[0mset_xlim\u001b[0m\u001b[0;34m(\u001b[0m\u001b[0;34m(\u001b[0m\u001b[0mxmin\u001b[0m\u001b[0;34m,\u001b[0m \u001b[0mxmax\u001b[0m\u001b[0;34m)\u001b[0m\u001b[0;34m,\u001b[0m \u001b[0mauto\u001b[0m\u001b[0;34m=\u001b[0m\u001b[0;32mNone\u001b[0m\u001b[0;34m)\u001b[0m\u001b[0;34m\u001b[0m\u001b[0;34m\u001b[0m\u001b[0m\n\u001b[1;32m    950\u001b[0m         \u001b[0;32mif\u001b[0m \u001b[0mself\u001b[0m\u001b[0;34m.\u001b[0m\u001b[0maxes\u001b[0m\u001b[0;34m.\u001b[0m\u001b[0m_autoscaleYon\u001b[0m\u001b[0;34m:\u001b[0m\u001b[0;34m\u001b[0m\u001b[0;34m\u001b[0m\u001b[0m\n\u001b[0;32m--> 951\u001b[0;31m             \u001b[0mself\u001b[0m\u001b[0;34m.\u001b[0m\u001b[0maxes\u001b[0m\u001b[0;34m.\u001b[0m\u001b[0mset_ylim\u001b[0m\u001b[0;34m(\u001b[0m\u001b[0;34m(\u001b[0m\u001b[0mymin\u001b[0m\u001b[0;34m,\u001b[0m \u001b[0mymax\u001b[0m\u001b[0;34m)\u001b[0m\u001b[0;34m,\u001b[0m \u001b[0mauto\u001b[0m\u001b[0;34m=\u001b[0m\u001b[0;32mNone\u001b[0m\u001b[0;34m)\u001b[0m\u001b[0;34m\u001b[0m\u001b[0;34m\u001b[0m\u001b[0m\n\u001b[0m\u001b[1;32m    952\u001b[0m         \u001b[0mself\u001b[0m\u001b[0;34m.\u001b[0m\u001b[0mstale\u001b[0m \u001b[0;34m=\u001b[0m \u001b[0;32mTrue\u001b[0m\u001b[0;34m\u001b[0m\u001b[0;34m\u001b[0m\u001b[0m\n\u001b[1;32m    953\u001b[0m \u001b[0;34m\u001b[0m\u001b[0m\n",
      "\u001b[0;32m/usr/local/lib/python3.6/dist-packages/matplotlib/axes/_base.py\u001b[0m in \u001b[0;36mset_ylim\u001b[0;34m(self, bottom, top, emit, auto, ymin, ymax)\u001b[0m\n\u001b[1;32m   3609\u001b[0m                 f\"expanding.\")\n\u001b[1;32m   3610\u001b[0m         \u001b[0mreverse\u001b[0m \u001b[0;34m=\u001b[0m \u001b[0mbottom\u001b[0m \u001b[0;34m>\u001b[0m \u001b[0mtop\u001b[0m\u001b[0;34m\u001b[0m\u001b[0;34m\u001b[0m\u001b[0m\n\u001b[0;32m-> 3611\u001b[0;31m         \u001b[0mbottom\u001b[0m\u001b[0;34m,\u001b[0m \u001b[0mtop\u001b[0m \u001b[0;34m=\u001b[0m \u001b[0mself\u001b[0m\u001b[0;34m.\u001b[0m\u001b[0myaxis\u001b[0m\u001b[0;34m.\u001b[0m\u001b[0mget_major_locator\u001b[0m\u001b[0;34m(\u001b[0m\u001b[0;34m)\u001b[0m\u001b[0;34m.\u001b[0m\u001b[0mnonsingular\u001b[0m\u001b[0;34m(\u001b[0m\u001b[0mbottom\u001b[0m\u001b[0;34m,\u001b[0m \u001b[0mtop\u001b[0m\u001b[0;34m)\u001b[0m\u001b[0;34m\u001b[0m\u001b[0;34m\u001b[0m\u001b[0m\n\u001b[0m\u001b[1;32m   3612\u001b[0m         \u001b[0mbottom\u001b[0m\u001b[0;34m,\u001b[0m \u001b[0mtop\u001b[0m \u001b[0;34m=\u001b[0m \u001b[0mself\u001b[0m\u001b[0;34m.\u001b[0m\u001b[0myaxis\u001b[0m\u001b[0;34m.\u001b[0m\u001b[0mlimit_range_for_scale\u001b[0m\u001b[0;34m(\u001b[0m\u001b[0mbottom\u001b[0m\u001b[0;34m,\u001b[0m \u001b[0mtop\u001b[0m\u001b[0;34m)\u001b[0m\u001b[0;34m\u001b[0m\u001b[0;34m\u001b[0m\u001b[0m\n\u001b[1;32m   3613\u001b[0m         \u001b[0;31m# cast to bool to avoid bad interaction between python 3.8 and np.bool_\u001b[0m\u001b[0;34m\u001b[0m\u001b[0;34m\u001b[0m\u001b[0;34m\u001b[0m\u001b[0m\n",
      "\u001b[0;32m/usr/local/lib/python3.6/dist-packages/matplotlib/ticker.py\u001b[0m in \u001b[0;36mnonsingular\u001b[0;34m(self, v0, v1)\u001b[0m\n\u001b[1;32m   1693\u001b[0m         \u001b[0;34m-\u001b[0m \u001b[0mOtherwise\u001b[0m\u001b[0;34m,\u001b[0m\u001b[0;31m \u001b[0m\u001b[0;31m`\u001b[0m\u001b[0;31m`\u001b[0m\u001b[0;34m(\u001b[0m\u001b[0mv0\u001b[0m\u001b[0;34m,\u001b[0m \u001b[0mv1\u001b[0m\u001b[0;34m)\u001b[0m\u001b[0;31m`\u001b[0m\u001b[0;31m`\u001b[0m \u001b[0;32mis\u001b[0m \u001b[0mreturned\u001b[0m \u001b[0mwithout\u001b[0m \u001b[0mmodification\u001b[0m\u001b[0;34m.\u001b[0m\u001b[0;34m\u001b[0m\u001b[0;34m\u001b[0m\u001b[0m\n\u001b[1;32m   1694\u001b[0m         \"\"\"\n\u001b[0;32m-> 1695\u001b[0;31m         \u001b[0;32mreturn\u001b[0m \u001b[0mmtransforms\u001b[0m\u001b[0;34m.\u001b[0m\u001b[0mnonsingular\u001b[0m\u001b[0;34m(\u001b[0m\u001b[0mv0\u001b[0m\u001b[0;34m,\u001b[0m \u001b[0mv1\u001b[0m\u001b[0;34m,\u001b[0m \u001b[0mexpander\u001b[0m\u001b[0;34m=\u001b[0m\u001b[0;36m.05\u001b[0m\u001b[0;34m)\u001b[0m\u001b[0;34m\u001b[0m\u001b[0;34m\u001b[0m\u001b[0m\n\u001b[0m\u001b[1;32m   1696\u001b[0m \u001b[0;34m\u001b[0m\u001b[0m\n\u001b[1;32m   1697\u001b[0m     \u001b[0;32mdef\u001b[0m \u001b[0mview_limits\u001b[0m\u001b[0;34m(\u001b[0m\u001b[0mself\u001b[0m\u001b[0;34m,\u001b[0m \u001b[0mvmin\u001b[0m\u001b[0;34m,\u001b[0m \u001b[0mvmax\u001b[0m\u001b[0;34m)\u001b[0m\u001b[0;34m:\u001b[0m\u001b[0;34m\u001b[0m\u001b[0;34m\u001b[0m\u001b[0m\n",
      "\u001b[0;32m/usr/local/lib/python3.6/dist-packages/matplotlib/transforms.py\u001b[0m in \u001b[0;36mnonsingular\u001b[0;34m(vmin, vmax, expander, tiny, increasing)\u001b[0m\n\u001b[1;32m   2805\u001b[0m     \"\"\"\n\u001b[1;32m   2806\u001b[0m \u001b[0;34m\u001b[0m\u001b[0m\n\u001b[0;32m-> 2807\u001b[0;31m     \u001b[0;32mif\u001b[0m \u001b[0;34m(\u001b[0m\u001b[0;32mnot\u001b[0m \u001b[0mnp\u001b[0m\u001b[0;34m.\u001b[0m\u001b[0misfinite\u001b[0m\u001b[0;34m(\u001b[0m\u001b[0mvmin\u001b[0m\u001b[0;34m)\u001b[0m\u001b[0;34m)\u001b[0m \u001b[0;32mor\u001b[0m \u001b[0;34m(\u001b[0m\u001b[0;32mnot\u001b[0m \u001b[0mnp\u001b[0m\u001b[0;34m.\u001b[0m\u001b[0misfinite\u001b[0m\u001b[0;34m(\u001b[0m\u001b[0mvmax\u001b[0m\u001b[0;34m)\u001b[0m\u001b[0;34m)\u001b[0m\u001b[0;34m:\u001b[0m\u001b[0;34m\u001b[0m\u001b[0;34m\u001b[0m\u001b[0m\n\u001b[0m\u001b[1;32m   2808\u001b[0m         \u001b[0;32mreturn\u001b[0m \u001b[0;34m-\u001b[0m\u001b[0mexpander\u001b[0m\u001b[0;34m,\u001b[0m \u001b[0mexpander\u001b[0m\u001b[0;34m\u001b[0m\u001b[0;34m\u001b[0m\u001b[0m\n\u001b[1;32m   2809\u001b[0m \u001b[0;34m\u001b[0m\u001b[0m\n",
      "\u001b[0;31mKeyboardInterrupt\u001b[0m: "
     ]
    },
    {
     "data": {
      "image/png": "[encoded data removed]",
      "text/plain": [
       "<Figure size 1080x1080 with 2 Axes>"
      ]
     },
     "metadata": {
      "needs_background": "light",
      "tags": []
     },
     "output_type": "display_data"
    }
   ],
   "source": [
    "import numpy as np\n",
    "import matplotlib.pyplot as plt\n",
    "from matplotlib import animation\n",
    "nx = ny = 200\n",
    "nt = 17\n",
    "nu = 1\n",
    "dx = 2 / (nx - 1)\n",
    "dy = 2 / (ny - 1)\n",
    "sigma = 0.25\n",
    "dt = sigma * dx * dy / nu\n",
    "\n",
    "x = np.linspace(0, 2, nx)\n",
    "y = np.linspace(0, 2, ny)\n",
    "\n",
    "u = np.zeros((ny, nx))\n",
    "un = np.zeros((ny, nx))\n",
    "fig, ax = plt.subplots(figsize=(15,15))\n",
    "fig.tight_layout()\n",
    "ax = fig.add_axes((0, 0, 1, 1))\n",
    "ax.axis(\"off\")\n",
    "def update():\n",
    "    un = u.copy()\n",
    "    u[1:-1, 1:-1] = (un[1:-1,1:-1] + \n",
    "                    nu * dt / dx**2 * \n",
    "                    (un[1:-1, 2:] - 2 * un[1:-1, 1:-1] + un[1:-1, 0:-2]) +\n",
    "                    nu * dt / dy**2 * \n",
    "                    (un[2:,1: -1] - 2 * un[1:-1, 1:-1] + un[0:-2, 1:-1]))\n",
    "    u[0,:] = 5\n",
    "    u[-1,:] = 0\n",
    "    u[:,0] = 0\n",
    "    u[:,-1] = 0\n",
    "    return [ax.imshow(u, cmap=\"hot\",interpolation='nearest', aspect='auto')]\n",
    "ims = []\n",
    "for i in range(10000):\n",
    "    if i%10==0: print(i)\n",
    "    ims.append(update())\n",
    "ani = animation.ArtistAnimation(fig, ims, interval=50, blit=True,\n",
    "    repeat_delay=1000)\n",
    "ani.save(\"out.mp4\")"
   ]
  },
  {
   "cell_type": "code",
   "execution_count": 1,
   "metadata": {
    "colab": {
     "base_uri": "https://localhost:8080/",
     "height": 421,
     "output_embedded_package_id": "1Jkfux0UFXjgtIc5yzlkTvdzVUjGiy82V"
    },
    "executionInfo": {
     "elapsed": 3201,
     "status": "ok",
     "timestamp": 1604897482678,
     "user": {
      "displayName": "Husnain Raza",
      "photoUrl": "",
      "userId": "16146658556003895350"
     },
     "user_tz": 360
    },
    "id": "09TBXACLKh0B",
    "outputId": "1932c039-2989-4ef7-ac27-9fd1ba77a93b"
   },
   "outputs": [
    {
     "data": {
      "text/html": [
       "<video src=\"hot_plate.mp4\" controls  >\n",
       "      Your browser does not support the <code>video</code> element.\n",
       "    </video>"
      ],
      "text/plain": [
       "<IPython.core.display.Video object>"
      ]
     },
     "execution_count": 1,
     "metadata": {},
     "output_type": "execute_result"
    }
   ],
   "source": [
    "from IPython.display import Video\n",
    "Video(\"hot_plate.mp4\")"
   ]
  },
  {
   "cell_type": "markdown",
   "metadata": {
    "id": "FqVfeDli2M5d"
   },
   "source": [
    "### Attempt 2: Fourier Series\n",
    "\n",
    "NOTE: Here, we are following the approach taken in [this paper](https://matheplanet.com/matheplanet/nuke/html/matroid/siam/siam_results.pdf)\n",
    "\n",
    "We follow the approach taken in \"Fourier Transforms\" by Ian N. Sneddon (page 185)\n",
    "![image.png](data:image/png;base64,iVBORw0KGgoAAAANSUhEUgAAAXAAAAEPCAYAAABbbZ8rAAAZK0lEQVR4Ae2dPZYVOdKGMTHbbBOTJWBispw222MJLAGzl8ASMDEx28TExKw5+r55hyiVpFTmVYb+njxnTigVoVDoicy371yK4tUTFwQgAAEITEng1ZRVUzQEIAABCDwh4DwEEIAABCYlgIBP2jjKhgAEIICA8wxAAAIQmJQAAj5p4ygbAhCAAALOMwABCEBgUgII+KSNo2wIQAACCDjPAAQgAIFJCSDgkzaOsiEAAQgg4DwDEIAABCYlgIBP2jjKhgAEIICA8wxAAAIQmJQAAj5p4ygbAhCAAALOMwABCEBgUgII+KSNo2wIQAACCDjPAAQgAIFJCSDgkzaOsiEAAQgg4DwDEIAABCYlgIBP2jjKhgAEILCcgL969epJ//v+/TsdhgAEILAsgaUEXMJt7bKd42AQgMD2BJYX8Ldv327fZABAAAJrElhewMOn8W/fvq3ZPU4FAQhsTWAZAf/w4cP/vvu2X6FovHWXOTwEILAkgWUEXEKds58/f16ygRwKAhDYl8ASAn706Vuivm+bOTkEILAigSUEXAJ9ZFdsIGeCAAT2JTC9gH/69Kn43bcVdb5G2fdB5+QQWJHA9AJuBToev3nz5oW4r9hEzgQBCOxJYGoB//HjxwuBtiL+5cuXF37+duaeDzqnhsCKBKYWcCvWqXFoWG5+xWZyJghAYC8Cywv4P//880LEf/36tVeXOS0EILAkgWkFPPztytSnazunjtm5MP748aNcWAhAAALTEphSwH/+/PlCvF+/fv1iTl3hDzNFAgsBCKxEYEoBjz9Rh/t///03K+CpP8wMX61wQQACEJiZwHQC/v79+xdCHT59hysWdtuYP//885mfr1EsHcYQgMCMBKYT8FikJd4BfuyzDQmCbf38mllLhzEEIDAjgakE/N27d89EOAhy+FlwXVagw9heqa9R+GkUS4gxBCAwG4HnKjdw9V+/fn0h3vbTdyi9JOApP5/CB244pUEAAocEphDw1E+dxJ+ww0mPBDz1M+H8Yw+HzwgBEIDAoASmEPBYmMN9+CVW8RXHxf5wH8eEe/56fYoUcxCAwOgEhhfw1G8bjL86EeRYnDVvbepnwsM6vg+3lBhDAAIzEBhewGNRzol3gB3H5hqQEnG+D8/RYh4CEBiVwHQCXvqd3rUCHpoR/1x4WMsFAQhAYCYCw6uW/emT0qfvAP2MgIevTGz8Ue6ZmkqtEIDAHgSGF/AzbbCCXPOJOvx0S/gLPqk/ED2zL7EQgAAEehDYWsB7AGdPCEAAAq0IIOCtSJIHAhCAgDMBBNwZONtBAAIQaEUAAW9FkjwQgAAEnAkg4M7A2Q4CEIBAKwIIeCuS5IEABCDgTAABdwbOdhCAAARaEUDAW5EkDwQgAAFnAgi4M3C2gwAEINCKAALeiiR5IAABCDgTQMCdgbPd4wTsr0x4PBsZIDAvAQR83t5tV7kVbjveDgQHhsB/CSDgPArDE7BirbGKju81j4XADgQQ8B26PPEZJdDBpi75Uz7mILA6gfRbMemp9TLLTnqMYcs+4nrkP3sw5Qu2dCmuFIMPAisSKL8Zk51YL7LsZOUPX+4R11q/4qxNHV7+lM/O1cbZNYwhsAIBBHyFLjqdoSSU8gWbuqw/NS6tSfnsnPLZOcYQ2IFA+m2b9OR6kWUnPcawZZe4yhdsi0v5anKdia3JRwwEZiHQ5m0b5LR6kWUHKWupMlJsNSfb4sBncp2JbVEbOSAwCgEEfJROTFJHSiw1F9v4SLFf93FcuC/54vgzsfFa7iEwMwEEfObudahdYpmyoZx43pYY++y9jYvzxL74Xnniee4hsDoBBHz1Dt9wPgmmbGqLki8Vn5qryVETk8rNHARWIICAr9DFhc9wJNBH/oXRcDQIPCHgPARDE5BAH9mhD0FxELiJAAJ+E1jStiOAeLdjSaa1CCDga/WT00AAAhsRGF7A7aevo77Y2DDmggAEILAygeFVTqJc0wTFytasIQYCEIDArAQQ8Fk7R90QgMD2BBDw7R8BAEAAArMSQMBn7Rx1QwAC2xOYRsBrvtdWjOz23QUABCCwNIHpBLwkzvJhX734nSQwgUmPZ2Bp9RzgcNMIuFjpIdS9tfJhESuegXGeAfuOMm5LAAF/Nc6DjujQixWfgbaSRTZLYCoBtw+3PYTG1s8YMeQZGOMZ0PuJbU9gGgG3L2MOg40JYy4IQMCfAO+hH/PhVS5+GErCHMf6YWQnCEBABHgPReJ+O7yAn0HAg3OGFrEQuIcA7+E9XFNZEfAUFeYgAIHLBBDwy+hOL0TATyNjAQQgUCKAgJfotPUh4G15kg0C2xNAwP0eAQTcjzU7QWALAgi4X5sRcD/W7ASBLQgg4H5tRsD9WLMTBLYggID7tRkB92PNThDYggAC7tdmBNyPNTtBYAsCCLhfmxFwP9bsBIEtCCDgfm1GwP1YsxMEtiCAgPu1GQH3Y81OENiCAALu12YE3I81O0FgCwIIuF+bEXA/1uwEgS0IIOB+bUbA/VizEwS2IICA+7UZAfdjzU4Q2IIAAu7XZgTcjzU7QWALAgi4X5sRcD/W7ASBLQgg4H5tRsD9WLMTBLYggID7tRkB92PNThDYggAC7tdmBNyPNTtBYAsCCLhfmxFwP9bsBIEtCCDgfm1GwP1YsxMEtiCAgPu1GQH3Y81OENiCAALu12YE3I81O0FgCwIIuF+bEXA/1uwEgS0IIOB+bUbA/VizEwS2IICA+7UZAfdjzU4Q2IIAAu7XZgTcjzU7QWALAgi4X5sRcD/W7ASBLQgg4H5tRsD9WLMTBLYggID7tRkB92PNThDYggAC7tdmBNyPNTtBYAsCCLhfmxFwP9bsBIEtCCDgfm1GwP1YsxMEtiCAgPu1GQH3Y81OENiCAALu12YE3I81O0FgCwIIuF+bEXA/1uwEgS0IIOB+bUbA/VizEwS2IICA+7UZAfdjzU4Q2IIAAu7XZgTcjzU7QWALAgi4X5sRcD/W7ASBLQgg4H5tRsD9WLMTBLYggID7tRkB92PNThDYggAC7tdmBNyPNTtBYAsCCLhfmxFwP9bsBIEtCCDgfm1GwP1YsxMEtiCAgPu1GQH3Y81OENiCAALu12YE3I81O0FgCwIIuF+bEXA/1uwEgS0IIOB+bR5ewPUw1CBRrGzNGmIgAIG2BPT+ybbNTjZLYFgBV/OttYWnxjY2jLn2JWCfhX0p9Dm5Zc97eG8PhlS5+AHQ/REKxckexeMvEwgcZ770HLQ+h82r8cycWtcuJrKt85PvN4Hh3lA1PVhdqTn5rLVxdr2NYVxHQCzroseNankO5crZcSn4Vhbz8d19r91+q+QA57aNj8uRL56394qRtT7G9QTEL9jZr1ZnKeUp+Wbnd6V+yyOMue4jMBRdNT533Fr/UVwuP/P/T2A1fo+eR+uDzV2Kyfl3mhcL2Z3O7n3W/BP59PTk2YCavY5i5Jf1hrnCfmIX7CyXrTlVt/xXz1Ozvibm6v6zrRML2dnqn6ne4lt61IDgP7qUw9rUGvlTPs0dxcgvq3XYegKzsVO91qZOK3/KdzRXs1Yxwe5+WRbwuPdpKD5takSqBPlyDbL+1DjOqZh4XvfyB5u7bEwpLrd+h3kxyp215M/5cvO5PcJ8WGMv5YjnbUw81ho7n5oL/ty8XZsaa12wR5dij+JW94uD7Eznna3m4lNZOox8waauI3+8RvHxvO6P/CFOMbJai/1N4IhNyS9fsLpSc/LlrNZYv+ZsbutPjbXG+lJzwZ+bt2tT4zPrzsSm9lplThxkZziXao3t6LX/fhMTleowCdf/XogQ0+LK7aX5mn1sbE18i7pHyqHzl2pSTI6P/LU5cnlq1tsY7VubT/E2RxhrPs6jeRuvuZRVnHy6L9kzsaU8s/vEQXb086jOYHXZOTsv/yj2d8WJinSIhCv7othYrU9ZGxfGqZh4Ll4T35+Nj9fPfq/zl86hmGBTl/wpn+YUI6v5Wptap7lgay7Fp2JTvtKcfNYqb2pOvtgqNp7f7V4cZEc+v2oMNnXJn/KNMJeu+r+V5Yq383ZsD6T5krXxYZyLjeNy9/H6XNyq8zp/6XyKCTZ1yZ/y2bnaOLtGY621NaTmFB9bxcbzuk/5U3OKP7I1axUT7O6XZVHLQ2tS7Eq+VHztXE3empja/e6IKz5tKj5nQ0HWd0eBZ3LaWsJ4t0vnPzp3Ka7ks3kVJ2t9NeN4XXxfynEUK3+wujSn+zP2aK38dr8z+VeLtTxqmWhNikWNTzEpm8oZ5hSb89fGlNbf7fv9hBd20kFjqyWa130vqzpke9XRa9/ac5fiSj6dSzGxlb/Gam2I1Vj27PpUfJwrvk+tyc0drT3y5/KuOi8esjXnLMXW+BSTsrn9FZvzh/mamNL6u31VAn53Ea3yC7Zsq7yz5Kk9dymu5BOHOCa+V1zJak3KptaFOHtpnZ2z49ifu9d8bEu5an02bqdxiWWOg9ak/CVfKr52riZvTUztfnfEPX8r7tjBMadgyzpuPcRWNedWjGxceG5ecfIHay/N2zk7Tvk1p1y6t+vCODWfmtM6+YLVpbn4XvOxVVyw1peat3OMn/MK7GouMU7FlnwhvnaPOPdRXuW+mj/e7477Orp37HxDTjVE9oYthk6pc5ceOBuTirP+M4fVutyaI39Yl4tJzWtOVvvqPlh7ad7OnRlrfcqeybNDbMyo5sxaE8dqPtjUZf258dG6lD/M2Xy5mN7zaSq9q7q4vwUexjteYpA6u3zWluJSvqtz2rO0PheTmw+55IttvI/88fzZe+WRPbt+h3ixka05cy5W88GWLhsXj1PrFJPyhTn5ZXNxvefLVHpXd3J/wZY9uXyJcJ092PiSL8zbcS4ulSOOPbrXPrKl+FSM5oItXTYujrW+Ug58bQhY3nEvcjvEa0r3uRxn5m1+u87Oh/Ho1/gVniA4G/wTRzsVGnOI70MyO5dKfuRPrYnnbI4wProUb+NSc9Z/NNb6mv2PcuGvI2CZn+Eer7Nrra+uiuMomzM1Ps7QP+L4repfY3UFcROqFy4WGHOw92eOenXdmT1srPbTnO6DvXopx9X1rDtPQMxlz2fwW6EaY+tXwWM7XX8zHtv3ltWzNuEWGI2SimmjdMU0rfdSvmC5/AhY7rC/l/tSTzYPzr0PS8vsqRdb/Wuxj3Kl9mmRnxx5ApY9/POcWngQ8BYUyXGKgF7weFFuPo6ruW+Zq2Y/Yn4TEHvZ3x5GrQkg4K2Jku+QQO7Fzs0fJiRgKALqo+xQxS1WDAK+WENnOI5e7Jyd4QzUmCcQ9zUfiedRAgj4owRZf4lA/JLr/lIyFg1FQL2UHaq4xYpBwBdrKMeBQG8CEm7Z3vWsvD8CvnJ3ORsEOhCQcMt2KGGbLRHwbVrNQSHgQ0DCLeuz6567IOB79p1TQ+A2AhJu2ds2IvETAs5DAAEINCUg4ZZtmpxkzwgg4M9wcAMBCDxKQMIt+2g+1ucJIOB5NnggAIELBCTcshdSsKSSAAJeCYowCECgjoCEW7ZuFVFXCCDgV6ixBgIQyBKQcMtmA3E8TAABfxghCSAAAUtAwi1rfYzbEkDA2/IkGwS2JyDhlt0eyI0AEPAb4ZIaAjsSkHDL7sjA68wIuBdp9oHAJgQk3LKbHLvLMRHwLtjZFALrEpBwy6570v4nQ8D794AKILAUAQm37FKHG+wwCPhgDaEcCMxOQMItO/t5Rq4fAR+5O9QGgQkJSLhlJzzCNCUj4NO0ikIhMAcBCbfsHFXPWSUCPmffqBoCwxKQcMsOW+gChSHgCzSRI0BgJAISbtmRalutFgR8tY5yHgh0JiDhlu1cztLbI+BLt5fDQcCfgIRb1r+CfXZEwPfpNSeFgAsBCbesy6abboKAb9p4jg2BuwhIuGXv2oe8T/ybmDwEEIBAWwISbtm22clmCfAJ3NJgDAEIPExAwi37cEISZAkg4Fk0OCAAgSsEJNyyV3Kwpo4AAl7HiSgIQKCSgIRbtnIZYRcIIOAXoLEEAhDIE5Bwy+Yj8TxKAAF/lCDrIQCBZwQk3LLPnNw0JYCAN8VJMghAQMItC5H7CCDg97ElMwS2JCDhlt0SgtOhEXAn0GwDgV0ISLhldzl3j3Mi4D2osycEFiYg4ZZd+Kjdj4aAd28BBUBgLQISbtm1TjfWaRDwsfpBNRCYnoCEW3b6Aw18AAR84OZQGgRmJCDhlp3xDLPUjIDP0inqhMAkBCTcspOUPWWZCPiUbaNoCIxLQMItO26l81eGgM/fQ04AgaEISLhlhypusWIQ8MUaynEg0JuAhFu2dz0r74+Ar9xdzgaBDgQk3LIdSthmSwR8m1ZzUAj4EJBwy/rsuucuCPiefefUELiNgIRb9raNSMy/ickzAAEItCUg4ZZtm51slgCfwC0NxhCAwMMEJNyyDyckQZYAAp5FgwMCELhCQMIteyWH15rv378/ff361Wu75vsg4M2RkhACexOQcMuOSuPDhw9PqjHYz58/j1pqti4EPIsGBwQgcIWAFcUwHvWK69R9+FQ+yzUu3QsE1QDZCylYAgEIPEhA75/sg+luW/7mzZtnn8BVb7Bv3769bd+WiRHwljTJBQEIvBDFkZH88ccfL+qVkAff6BcCPnqHqA8CkxGQAMqOXn74Q0zVGtvwKX3kCwEfuTvUBoEJCcQiOMsRfvz4kRXyX79+DXkMBHzItlAUBOYlMKuAi/jr16+TQv7t2zeFDGMR8GFaQSEQWIPA7AIePm3HZ9D9u3fvnkYScgR8jXeGU0BgGAISO9lhCjtRyM+fP59yn8R1riDmvS8EvHcH2B8CixGQwMnOfLy///47+2lc55PtIegI+MxPF7VDYEACEjTZAUs8VdKXL1+qRdz758cR8FOtJBgCEDgiIOGWPYqfxf/x48en0s+N9zhvVwHXgbGvqv8LDytY8QyM/Qx4fgrvJuA8hGM/hPSH/vAMXH8GvP5fBQL+6nqTeMBhxzPAMxA/A+GnV7yubgIeDhgfnHteBp4BnoGZnwFP8f4/DfX6L4XHPnHjPfZkDwhAYA8C8e8Pt3oThLvHr6Ht+gm8ddst0DDmggAEIPAogdLvSAk6E346pde1lMoh4L0eI/aFwJoEwl+bj3VF93/99ddTEPeeFwLekz57QwACwxIo/YMPo/zzawj4sI8PhUEAAj0IhN+Dok/ZsfX+Q8qj8yPgR4Tw30pAL8gdm9yZ+456V8op9rKjny38AWT4Llv1puxo4h2YDiPgKWCaq22+4mVr1xHXh4D6JJurQv5gz1xX153Zg9iXBCx3O34Z2X+m9B23rf3Tp0/9i01UcO6NSCRoMWVBpca1e8Rra9cR508g7lW4T11xXCrmaM7mOIrF/xgBsbZZUnPW32v8/v374ifuUHf41N37DypLfNJvTWlFY5+aG6y97Hzss3F2fGWNXc+4jkBtP0rZ1CvFpHIqJuXTulrbMlftnrvFiXF87tx8HOd9r7pytuePB9ayeK6atasaxVlwuZQ1MVprY8OY6zoBsYwz5OYVJ/8Rf8VpXcqWYo58Z/Ol4pmrJ5Drh+aDHe2ytYVx+LQdRHvUr0tS/LpSFcBUYXbubFxtvN2D8XMCOYZH8/LH9nn2379GIZ7XvdbrPrbyB2svzds5jUs+xWCvEYjZ6j6217Lfs8r+a/T//PPPPZvcnPX503/zZja9baydT40Vm/LZOcXJWh/jcwRyDDUfrL1S86k5rZFP97E98od4xaRsnM/Gp3zMPUYg1QPNWfZhjqsdgW40bXOPjlMbqzjZo7z48wRSDDUnm19d9mh9bO0q+excbqxY2aO4nJ/56wTEXjaVqeRLxTN3TAABP2a0ZUTqZdOc7BUwWpuzyim/7nNWcbFNxSsm5WPuMQKwfYzf1dUI+FVyi6+LX0jdWxsjsD6N4xh7X4op+UIO+WWVN77XvF1j5xhDYGYCCPjM3buxdglhbMOWds6WYOfjsY3TWDG6t7bGl4rRXLD2ys3bGMYQmI3A86fcsXq9UDVb1sYqTrYmNzF5AuIoayNTc9YfxooJNnWV/DW+VE7N2T1LuRSPhcCMBNJvlsNJ9FIdbVUbF/IoVvYoN/7+BEq9kk/2SrVaGywXBFYj0O2prn2xFFcLXvG8sLXE+sapX7kq5D/bT7vu7NpcLcxDYDQC3QQ8gNBLloMiPy9gjtD88+px65MoL89Oa7LkG4nAEAJuX7bUeCRg1NKGQNznNlnJAoG9CHQVcKGOX2Z7rxjsOgRsf8OYCwIQuEaAt+caN1ZBAAIQ6E4AAe/eAgqAAAQgcI0AAn6NG6sgAAEIdCeAgHdvAQVAAAIQuEYAAb/GjVUQgAAEuhNAwLu3gAIgAAEIXCOAgF/jxioIQAAC3Qkg4N1bQAEQgAAErhFAwK9xYxUEIACB7gQQ8O4toAAIQAAC1wgg4Ne4sQoCEIBAdwIIePcWUAAEIACBawQQ8GvcWAUBCECgOwEEvHsLKAACEIDANQII+DVurIIABCDQnQAC3r0FFAABCEDgGgEE/Bo3VkEAAhDoTgAB794CCoAABCBwjQACfo0bqyAAAQh0J4CAd28BBUAAAhC4RgABv8aNVRCAAAS6E0DAu7eAAiAAAQhcI4CAX+PGKghAAALdCfwHDHoH8eOP4pIAAAAASUVORK5CYII=)\n",
    "\n",
    "\n",
    "\n"
   ]
  },
  {
   "cell_type": "markdown",
   "metadata": {
    "id": "3PuJsJrY3XQh"
   },
   "source": [
    "We want a function $ u(x,y,t) $ that represents the temperature at a point $(x,y)$ at time $t$. We solve for $u$ satisfying a more general situation and then plug in values specific to the given question.\n",
    "\n",
    "Let $ u(x,y,t) $ satisfy the partial differential equation $$\\kappa (\\frac{\\partial^2u}{\\partial{x^2}} + \\frac{\\partial^2u}{\\partial{y^2}}) = \\frac{\\partial{u}}{\\partial{t}}$$ satisfying the boundary conditions \n",
    "\n",
    "$$u(x,0,t) = f(x), 0 \\le x \\le a, t > 0 $$\n",
    "$$u(0,y,t) = u(a,y,t) = u(x,b,t) = u(x,y,0) = 0 $$\n",
    "\n",
    "Next, note that by applying integration by parts, we get\n",
    "\n",
    "$$\\int_0^b \\underbrace{dy  \\; \\frac{\\partial^2{u}}{\\partial{y}^2}}_{v'} \\underbrace{\\sin{(\\frac{n \\pi y}{b})}}_{u} = \\left(\\frac{\\partial{u}}{\\partial{y}} \\sin{(\\frac{n \\pi y}{b})}\\right) \\Big|_{y=0}^{y=b} - \\int_0^b \\frac{\\partial{u}}{\\partial{y}}dy \\cdot \\frac{n\\pi}{b} \\cos{(\\frac{n\\pi y}{b})}$$\n",
    "\n",
    "where the first term here goes away due to the boundary conditions. Applying integration by parts again, we get\n",
    "\n",
    "$$ -\\frac{n\\pi}{b} \\int_0^b \\underbrace{\\frac{\\partial{u}}{\\partial{y}}dy}_{v'} \\cdot  \\underbrace{\\cos{(\\frac{n\\pi y}{b})}}_{u} = -\\frac{n\\pi}{b} \\left( u \\cos{(\\frac{n\\pi y}{b}) \\Big|_{y=0}^{y=b}} - \\int_0^b dy \\; u \\cdot \\frac{-n \\pi}{b} \\sin{(\\frac{n\\pi y}{b})}\\right) = \\frac{n\\pi}{b} f(x) - \\frac{n^2 \\pi^2}{b^2} \\int_0^b dy \\; u \\sin{(\\frac{n\\pi y}{b})} $$\n",
    "\n",
    "Therefore, we get that \n",
    "\n",
    "$$ \\int_0^b dy \\frac{\\partial^2 u}{\\partial y^2} \\sin{(\\frac{n \\pi y}{b})} = \\frac{n\\pi}{b} f(x) - \\frac{n^2 \\pi^2}{b^2} \\int_0^b dy \\; u \\sin{(\\frac{n\\pi y}{b})} $$\n",
    "\n",
    "so, by multiplying both sides by $\\sin{(\\frac{m\\pi x}{a})}$ and integrating from $x=0$ to $a$, we get\n",
    "\n",
    "$$\\int_0^a \\int_0^b \\frac{\\partial^2 u}{\\partial y^2} \\sin{(\\frac{m\\pi x}{a})} \\sin{(\\frac{n \\pi y}{b})} dy dx = \\\\ \\frac{n\\pi}{b} \\underbrace{\\int_0^a f(x)\\sin{(\\frac{m\\pi x}{a})}dx}_{:=F_s(m)}  - \\frac{n^2 \\pi^2}{b^2} \\underbrace{\\int_0^a \\int_0^b dy \\; dx \\; u(x,y,t) \\sin{(\\frac{m\\pi x}{a})} \\sin{(\\frac{n\\pi y}{b})}}_{:=U(m,n)}  \\;\\;\\;\\;\\;\\; (1)$$ \n",
    "\n",
    "Similarly, we get that\n",
    "\n",
    "$$ \\int_0^b \\int_0^a \\frac{\\partial^2 u}{\\partial x^2} \\sin{(\\frac{m \\pi x}{a})}\\sin{(\\frac{n \\pi y}{b})}dx dy = \\frac{m^2 \\pi^2}{a^2} U(m,n) $$\n",
    "\n",
    "Therefore, we get that\n",
    "\n",
    "$$\\kappa (\\frac{\\partial^2u}{\\partial{x^2}} + \\frac{\\partial^2u}{\\partial{y^2}}) = \\frac{\\partial{u}}{\\partial{t}}$$\n",
    "\n",
    "$$\\implies \\sin{(\\frac{m \\pi x}{a})}\\sin{(\\frac{n \\pi y}{b})} \\left( \\kappa (\\frac{\\partial^2u}{\\partial{x^2}} + \\frac{\\partial^2u}{\\partial{y^2}}) \\right) = \\sin{(\\frac{m \\pi x}{a})}\\sin{(\\frac{n \\pi y}{b})} \\left( \\frac{\\partial u}{\\partial t}\\right)$$\n",
    "\n",
    "Next, integrating both sides over the whole rectangle, we get \n",
    "\n",
    "$$ \\iint_R \\sin{(\\frac{m \\pi x}{a})}\\sin{(\\frac{n \\pi y}{b})} \\left( \\kappa (\\frac{\\partial^2u}{\\partial{x^2}} + \\frac{\\partial^2u}{\\partial{y^2}}) \\right) dA  = \\iint_R \\sin{(\\frac{m \\pi x}{a})}\\sin{(\\frac{n \\pi y}{b})} \\left( \\frac{\\partial u}{\\partial t}\\right) dA $$\n",
    "\n",
    "Note that by the [Leibniz integral rule](https://en.wikipedia.org/wiki/Leibniz_integral_rule), the right hand side of the above equation is simply $\\frac{\\partial U}{\\partial t}$. Therefore, we get that\n",
    "\n",
    "$$\\frac{\\partial U}{\\partial t} + \\kappa \\pi^2 (\\frac{m^2}{a^2} + \\frac{n^2}{b^2}) U = \\frac{\\kappa n \\pi}{b} F_s(m) $$\n",
    "\n",
    "which is a first-order linear differential equation in $U$ with the additional boundary condition $U(m,n,0) = 0$. \n",
    "\n",
    "We now substitute in some known values from the given problem. We know immediately that $\\kappa = 1, a=b=2$, and $ f(x) = 5 \\implies F_s(m) = \\int_0^a 5 \\sin{(\\frac{m\\pi x}{2})}dx = \\frac{20 \\sin^2{(\\frac{\\pi m}{2}})}{\\pi m} $. "
   ]
  },
  {
   "cell_type": "code",
   "execution_count": 11,
   "metadata": {
    "colab": {
     "base_uri": "https://localhost:8080/",
     "height": 65
    },
    "executionInfo": {
     "elapsed": 4170,
     "status": "ok",
     "timestamp": 1606373346581,
     "user": {
      "displayName": "Husnain Raza",
      "photoUrl": "",
      "userId": "16146658556003895350"
     },
     "user_tz": 360
    },
    "id": "s4Pq4KJd-qWB",
    "outputId": "7e060769-6958-412d-e070-ce4b0f19fb87"
   },
   "outputs": [
    {
     "name": "stdout",
     "output_type": "stream",
     "text": [
      "0\n"
     ]
    },
    {
     "data": {
      "image/png": "[encoded data removed]",
      "text/latex": [
       "$$\\frac{1}{\\pi^{2} m \\left(m^{2} + n^{2}\\right)} \\left(- 20 \\left(-1\\right)^{m} n + 20 n \\left(\\left(-1\\right)^{m} - 1\\right) e^{- \\frac{\\pi^{2} t}{4} \\left(m^{2} + n^{2}\\right)} + 20 n\\right)$$"
      ],
      "text/plain": [
       "                                   2   ⎛ 2    2⎞        \n",
       "                                 -π ⋅t⋅⎝m  + n ⎠        \n",
       "                                 ────────────────       \n",
       "         m          ⎛    m    ⎞         4               \n",
       "- 20⋅(-1) ⋅n + 20⋅n⋅⎝(-1)  - 1⎠⋅ℯ                 + 20⋅n\n",
       "────────────────────────────────────────────────────────\n",
       "                      2   ⎛ 2    2⎞                     \n",
       "                     π ⋅m⋅⎝m  + n ⎠                     "
      ]
     },
     "execution_count": 11,
     "metadata": {
      "tags": []
     },
     "output_type": "execute_result"
    }
   ],
   "source": [
    "from sympy import *\n",
    "m,n = symbols(\"m n\", integer=True)\n",
    "t = symbols(\"t\")\n",
    "U = Function(\"U\")(t)\n",
    "\n",
    "solution = dsolve(Eq(Derivative(U,t)+U*pi**2*(m**2+n**2)/4,n*pi/2*20*(sin(pi*m/2))**2 / (pi*m))).rhs\n",
    "# Solve for boundary condition (i.e. U(0)=0)\n",
    "\n",
    "C = solve(solution.subs(t, 0))\n",
    "solution = solution.subs(C[0])\n",
    "\n",
    "# Check to see if solution is correct\n",
    "mu = pi**2 * (m**2 + n**2)/4\n",
    "F_s = 20*(sin(pi*m/2))**2 / (pi*m)\n",
    "temp = n*pi/(2*mu) * F_s * (1-exp(-mu*t))\n",
    "print(simplify(temp - solution))\n",
    "init_printing()\n",
    "solution"
   ]
  },
  {
   "cell_type": "markdown",
   "metadata": {
    "id": "IorJ_IU3sq3e"
   },
   "source": [
    "##### Interlude: Inverse Fourier Transform\n",
    "\n",
    "Let $F(m,n) = \\int_0^2 \\int_0^2 f(x,y) \\sin{(\\frac{m \\pi x}{2})} \\sin{(\\frac{n\\pi y}{2})} dx dy $ and assume $$f(x,y) = \\sum_{(m',n')\\in \\mathbb{N}^2 } a_{m'n'} \\sin{(\\frac{m' \\pi x}{2})} \\sin{(\\frac{n'\\pi y}{2})} $$\n",
    "\n",
    "We therefore have\n",
    "\n",
    "$$F(m,n) = \\int_0^2 \\int_0^2 dx dy \\sum_{(m',n')\\in \\mathbb{N}^2 } a_{m'n'} \\sin{(\\frac{m' \\pi x}{2})} \\sin{(\\frac{n'\\pi y}{2})} = \\sum_{(m',n') \\in \\mathbb{N}^2 }  a_{m'n'} \\left( \\int_0^2 \\sin{(\\frac{m \\pi x}{2}) \\sin{(\\frac{m' \\pi x}{2})}} dx\\right) \\left( \\int_0^2 \\sin{(\\frac{n \\pi y}{2})} \\sin{(\\frac{n' \\pi y}{2})} dy \\right) = \\sum_{(m',n') \\in \\mathbb{N}^2 } a_{m'n'} \\delta_{mm'} \\delta_{nn'} = a_{mn} $$\n",
    "\n",
    "Therefore, we have that $$ \\boxed{u(x,y,t) = \\sum_{m=1}^\\infty \\sum_{n=1}^\\infty \\frac{20 n e^{- \\frac{\\pi^{2} t}{4} \\left(m^{2} + n^{2}\\right)}}{\\pi^{2} m \\left(m^{2} + n^{2}\\right)} \\left(\\left(-1\\right)^{m} + \\left(- \\left(-1\\right)^{m} + 1\\right) e^{\\frac{\\pi^{2} t}{4} \\left(m^{2} + n^{2}\\right)} - 1\\right)\n",
    "\\sin{\\frac{m \\pi x}{2}} \\sin{\\frac{n \\pi y}{2}}} $$\n",
    "\n",
    "Substituting $x=y=1$, notice that only odd $m,n$ contribute to the sum. Therefore, substituting $ m = 2k+1, n = 2l+1$, we get\n"
   ]
  },
  {
   "cell_type": "code",
   "execution_count": 12,
   "metadata": {
    "colab": {
     "base_uri": "https://localhost:8080/",
     "height": 67
    },
    "executionInfo": {
     "elapsed": 2583,
     "status": "ok",
     "timestamp": 1606373357935,
     "user": {
      "displayName": "Husnain Raza",
      "photoUrl": "",
      "userId": "16146658556003895350"
     },
     "user_tz": 360
    },
    "id": "ek1PES-vBzIQ",
    "outputId": "bf19a386-cbfc-49d8-bb70-fe5e2a9ce473"
   },
   "outputs": [
    {
     "data": {
      "image/png": "[encoded data removed]",
      "text/latex": [
       "$$\\frac{40 \\left(-1\\right)^{k + l} \\left(1 - e^{- \\frac{\\pi^{2} t}{4} \\left(\\left(2 k + 1\\right)^{2} + \\left(2 l + 1\\right)^{2}\\right)}\\right) \\left(2 l + 1\\right)}{\\pi^{2} \\left(2 k + 1\\right) \\left(\\left(2 k + 1\\right)^{2} + \\left(2 l + 1\\right)^{2}\\right)}$$"
      ],
      "text/plain": [
       "             ⎛       2   ⎛         2            2⎞ ⎞          \n",
       "             ⎜     -π ⋅t⋅⎝(2⋅k + 1)  + (2⋅l + 1) ⎠ ⎟          \n",
       "             ⎜     ────────────────────────────────⎟          \n",
       "       k + l ⎜                    4                ⎟          \n",
       "40⋅(-1)     ⋅⎝1 - ℯ                                ⎠⋅(2⋅l + 1)\n",
       "──────────────────────────────────────────────────────────────\n",
       "             2           ⎛         2            2⎞            \n",
       "            π ⋅(2⋅k + 1)⋅⎝(2⋅k + 1)  + (2⋅l + 1) ⎠            "
      ]
     },
     "execution_count": 12,
     "metadata": {
      "tags": []
     },
     "output_type": "execute_result"
    }
   ],
   "source": [
    "k,l = symbols(\"k l\", integer=True)\n",
    "summand = solution*sin(m*pi/2)*sin(n*pi/2)\n",
    "summand = simplify(summand.subs({m: 2*k+1, n: 2*l+1}))\n",
    "summand_f = lambdify([k,l,t], summand)\n",
    "\n",
    "# Do some tidying\n",
    "\n",
    "temp = summand.func(*summand.args[:-2]) \n",
    "temp2 = powsimp(expand(summand.args[-1]*summand.args[-2]),deep=True)\n",
    "summand = simplify(temp*powsimp(factor(temp2)))\n",
    "mu_ = (2*k+1)**2 + (2*l+1)**2\n",
    "exponent = pi**2 * t / 2 * mu_ / -2\n",
    "summand = summand.subs(pi**2*t/2*(-2*k*k-2*k-2*l*l-2*l-1), exponent)\n",
    "summand_f = lambdify([k,l,t], summand)\n",
    "summand"
   ]
  },
  {
   "cell_type": "code",
   "execution_count": 13,
   "metadata": {
    "colab": {
     "base_uri": "https://localhost:8080/"
    },
    "executionInfo": {
     "elapsed": 72549,
     "status": "ok",
     "timestamp": 1606373434681,
     "user": {
      "displayName": "Husnain Raza",
      "photoUrl": "",
      "userId": "16146658556003895350"
     },
     "user_tz": 360
    },
    "id": "_USpR8dIP7-W",
    "outputId": "b43c3ae6-b2dc-4ebd-97d7-a9c86b9d7c60"
   },
   "outputs": [
    {
     "name": "stdout",
     "output_type": "stream",
     "text": [
      "0.0\n",
      "1\n",
      "0.8099588985742797\n",
      "0.6682955399298669\n",
      "0.012794075968706077\n",
      "0.5710628232006496\n",
      "0.5076760213210352\n",
      "0.38822545658832924\n",
      "0.4323379157902649\n",
      "0.4253289553839222\n",
      "0.4246449705938235\n",
      "0.4246577614704173\n",
      "0.42465774037518617\n"
     ]
    },
    {
     "data": {
      "text/plain": [
       "      converged: True\n",
       "           flag: 'converged'\n",
       " function_calls: 13\n",
       "     iterations: 12\n",
       "           root: 0.4246577403745265"
      ]
     },
     "execution_count": 13,
     "metadata": {
      "tags": []
     },
     "output_type": "execute_result"
    }
   ],
   "source": [
    "INFINITY = 1000\n",
    "init_printing(pretty_print=False)\n",
    "u = lambda t: sum([summand_f(k,l,t) for k in range(INFINITY) for l in range(INFINITY)])\n",
    "from scipy.optimize import root_scalar\n",
    "def f(t):\n",
    "    print(t)\n",
    "    return u(t)-1\n",
    "root_scalar(f, x0=0, x1=1)"
   ]
  },
  {
   "cell_type": "markdown",
   "metadata": {
    "id": "_Wp_5evy4HYw"
   },
   "source": [
    "Therefore, we have that\n",
    "$$\\boxed{u(t) = \\sum_{k=0}^\\infty \\sum_{l=0}^\\infty \\frac{\\left(-1\\right)^{k + l} e^{- \\frac{\\pi^{2} t}{4} \\left(\\left(2 k + 1\\right)^{2} + \\left(2 l + 1\\right)^{2}\\right)}}{\\pi^{2} \\left(2 k + 1\\right) \\left(\\left(2 k + 1\\right)^{2} + \\left(2 l + 1\\right)^{2}\\right)} \\left(- 80 l + 40 \\left(2 l + 1\\right) e^{\\frac{\\pi^{2} t}{4} \\left(\\left(2 k + 1\\right)^{2} + \\left(2 l + 1\\right)^{2}\\right)} - 40\\right)}$$"
   ]
  },
  {
   "cell_type": "markdown",
   "metadata": {
    "id": "gcr6kFeXPg28"
   },
   "source": [
    "##### Interlude: A Weird Sum\n",
    "\n",
    "We consider the following sum\n",
    "\n",
    "$$\\sum_{n=0}^\\infty \\frac{(-1)^n (2n+1)}{(2n+1)^2 - \\frac{a^2}{4}}$$\n",
    "\n",
    "Using partial fractions, we get\n",
    "$$\\sum_{n=0}^\\infty (-1)^n \\left( \\frac{1}{4n+2-a} + \\frac{1}{4n+2+a}\\right) = \\sum_{n=0}^\\infty (-1)^n \\int_0^1 (x^{4n+1-a} + x^{4n+1+a}) dx = \\int_0^1 \\sum_{n=0}^\\infty (-1)^n x^{4n+1} (x^a + x^{-a}) dx = \\int_0^1 \\frac{x}{1+x^4} (x^a + x^{-a}) = \\int_0^1 \\frac{x^{a+1}}{1+x^4} + \\int_0^1 \\frac{x^{1-a}}{1+x^4} $$\n",
    "\n",
    "We use the substitution $x=\\frac{1}{u}, dx = \\frac{-1}{u^2} dx $ in the second integral to get\n",
    "\n",
    "$$\\int_0^1 \\frac{x^{a+1}}{1+x^4} dx + \\int_{\\infty}^1 \\frac{u^{a-1}}{1+(1/u)^4} \\cdot \\frac{-1}{u^2} \\cdot \\frac{u^2}{u^2} = \\int_0^1 \\frac{x^{a+1}}{1+x^4} + \\int_1^\\infty \\frac{x^{a+1}}{1+x^4} = \\int_0^\\infty \\frac{x^{a+1}}{1+x^4}$$\n",
    "\n",
    "Now, we substitute $y = \\frac{1}{1+x^4} \\implies x = (\\frac{1-y}{y})^{1/4} \\implies dx = \\frac{-dy}{4y^2(\\frac{1-y}{y})^{3/4}}$\n",
    "\n",
    "We therefore have that our integral becomes $$\\int_0^\\infty y \\cdot (\\frac{1-y}{y})^{\\frac{a+1}{4}} \\cdot \\frac{-dy}{4y^2(\\frac{1-y}{y})^{3/4}} = \\frac{1}{4} \\int_0^\\infty y^{\\frac{-a-2}{4}} (1-y)^{\\frac{a-2}{4}} = \\frac{1}{4} B(\\frac{2-a}{4}, \\frac{2+a}{4}) $$ \n",
    "\n",
    "where $B(x,y)$ is the [Beta function](https://en.wikipedia.org/wiki/Beta_function). \n",
    "\n",
    "We can write this in terms of the gamma function to get\n",
    "\n",
    "$$\\frac{1}{4} \\frac{\\Gamma(\\frac{2-a}{4})\\Gamma(\\frac{2+a}{4})}{\\Gamma(1)} = \\frac{\\pi}{4\\sin{(\\frac{\\pi(2+a)}{4})}} = \\frac{\\pi}{4}\\sec{\\frac{a\\pi}{4}}$$\n",
    "\n",
    "where we use [Euler's reflection formula](https://en.wikipedia.org/wiki/Gamma_function#General) in the first equality.\n",
    "\n",
    "Taking a leap of faith, substituting $a \\mapsto 2ia$ turns the original sum into\n",
    "$$\\sum_{n=0}^\\infty \\frac{(-1)^n (2n+1)}{(2n+1)^2 + a^2} = \\frac{\\pi}{4}\\text{sech}{\\left( \\frac{\\pi a}{2} \\right)}$$\n",
    "\n",
    "Let's check this:"
   ]
  },
  {
   "cell_type": "code",
   "execution_count": null,
   "metadata": {
    "colab": {
     "base_uri": "https://localhost:8080/",
     "height": 513
    },
    "executionInfo": {
     "elapsed": 1393,
     "status": "ok",
     "timestamp": 1604983927604,
     "user": {
      "displayName": "Husnain Raza",
      "photoUrl": "",
      "userId": "16146658556003895350"
     },
     "user_tz": 360
    },
    "id": "8xkXnhsuQ-s_",
    "outputId": "6eb3f5aa-69fb-4795-c3ed-1b7c26cd0987"
   },
   "outputs": [
    {
     "data": {
      "image/png": "[encoded data removed]",
      "text/plain": [
       "<Figure size 432x288 with 1 Axes>"
      ]
     },
     "metadata": {
      "needs_background": "light",
      "tags": []
     },
     "output_type": "display_data"
    },
    {
     "data": {
      "image/png": "[encoded data removed]",
      "text/plain": [
       "<Figure size 432x288 with 1 Axes>"
      ]
     },
     "metadata": {
      "needs_background": "light",
      "tags": []
     },
     "output_type": "display_data"
    }
   ],
   "source": [
    "import numpy as np\n",
    "import matplotlib.pyplot as plt\n",
    "from math import cosh, pi\n",
    "f = lambda a: sum([pow(-1,n) * (2*n+1) / ((2*n+1)**2 + a**2) for n in range(1000)])\n",
    "g = lambda a: pi/4 * 1/(np.cosh(pi*a/2))\n",
    "\n",
    "x = np.linspace(0,2,100)\n",
    "plt.scatter(x,f(x))\n",
    "plt.show()\n",
    "plt.scatter(x,g(x))\n",
    "plt.show()"
   ]
  },
  {
   "cell_type": "markdown",
   "metadata": {
    "id": "YGtIZLjof5BW"
   },
   "source": [
    "That's sufficient evidence for me!"
   ]
  },
  {
   "cell_type": "markdown",
   "metadata": {
    "id": "igsx-l06CQlI"
   },
   "source": [
    "##### Another Weird Sum\n",
    "\n",
    "We now consider the sum \n",
    "$$\\sum_{k=0}^\\infty \\frac{(-1)^k}{2k+1} \\text{sech}\\left(\\pi k + \\frac{\\pi}{2}\\right) = \\frac{\\pi}{8}$$\n",
    "\n",
    "##TODO: Actually prove this sum\n",
    "\n",
    "We just calculate this sum to a bunch of terms and try to identify it with the [PSLQ algorithm](https://en.wikipedia.org/wiki/Integer_relation_algorithm)."
   ]
  },
  {
   "cell_type": "code",
   "execution_count": 20,
   "metadata": {
    "colab": {
     "base_uri": "https://localhost:8080/",
     "height": 35
    },
    "executionInfo": {
     "elapsed": 384,
     "status": "ok",
     "timestamp": 1606365219652,
     "user": {
      "displayName": "Husnain Raza",
      "photoUrl": "",
      "userId": "16146658556003895350"
     },
     "user_tz": 360
    },
    "id": "Tjp8ZwKefRQh",
    "outputId": "8707e013-a744-43e7-cac2-5812c01bf929"
   },
   "outputs": [
    {
     "data": {
      "application/vnd.google.colaboratory.intrinsic+json": {
       "type": "string"
      },
      "text/plain": [
       "'((1/8)*pi)'"
      ]
     },
     "execution_count": 20,
     "metadata": {
      "tags": []
     },
     "output_type": "execute_result"
    }
   ],
   "source": [
    "from math import cosh, pi\n",
    "sech = lambda t: 1/cosh(t)\n",
    "INFINITY = 50\n",
    "summand = [pow(-1,k)/(2*k+1)*sech(pi*(k+0.5)) for k in range(INFINITY)]\n",
    "from mpmath import *\n",
    "identify(sum(summand),[\"pi\",\"e\"])"
   ]
  },
  {
   "cell_type": "markdown",
   "metadata": {
    "id": "Lg-FlBx0x1sy"
   },
   "source": [
    "We therefore have that\n",
    "$$\\sum_{(k,l)\\in \\mathbb{N}^2 } \\frac{40 \\left(-1\\right)^{k} \\left(-1\\right)^{l} \\left(2 l + 1\\right)}{\\pi^{2} \\left(2 k + 1\\right) \\left(\\left(2 k + 1\\right)^{2} + \\left(2 l + 1\\right)^{2}\\right)} = \\sum_{k \\ge 0} \\frac{40 (-1)^k }{\\pi^2 (2k+1)} \\sum_{l \\ge 0} \\frac{(-1)^l (2l+1)}{(2l+1)^2 + (2k+1)^2} = \\sum_{k \\ge 0} \\frac{40 (-1)^k \\text{sech}(\\pi (k+1/2))}{\\pi (2k+1)} = \\frac{40}{\\pi} \\sum_{k=0}^\\infty \\frac{(-1)^k}{2k+1} \\text{sech}\\left(\\pi k + \\frac{\\pi}{2}\\right) = \\frac{40}{\\pi} \\cdot \\frac{\\pi}{8} = \\frac{5}{4} $$\n",
    "\n",
    "And so our original sum becomes $$u(t) = \\frac{5}{4} - \\frac{40}{\\pi^2} \\sum_{k=0}^{\\infty} \\frac{(-1)^k}{2k+1} \\sum_{l=0}^\\infty \\frac{(-1)^l (2l+1)}{(2k+1)^2 + (2l+1)^2} e^{-\\pi^2 t/4 \\; \\cdot \\; ((2k+1)^2 + (2l+1)^2)}$$"
   ]
  },
  {
   "cell_type": "code",
   "execution_count": 5,
   "metadata": {
    "colab": {
     "base_uri": "https://localhost:8080/"
    },
    "executionInfo": {
     "elapsed": 25242,
     "status": "ok",
     "timestamp": 1606365915242,
     "user": {
      "displayName": "Husnain Raza",
      "photoUrl": "",
      "userId": "16146658556003895350"
     },
     "user_tz": 360
    },
    "id": "rteIs2JQrQHC",
    "outputId": "c297fedd-3151-4b78-b585-3841cd20cb73"
   },
   "outputs": [
    {
     "name": "stdout",
     "output_type": "stream",
     "text": [
      "0.0\n",
      "1\n",
      "0.80931445650583\n",
      "0.6672977947075767\n",
      "0.012917560648138685\n",
      "0.5699635631325781\n",
      "0.5066108579750871\n",
      "0.3879039493608965\n",
      "0.4315845329426156\n",
      "0.42466744818111046\n",
      "0.4239990812124808\n",
      "0.42401140690307043\n",
      "0.42401138703428987\n"
     ]
    },
    {
     "data": {
      "text/plain": [
       "      converged: True\n",
       "           flag: 'converged'\n",
       " function_calls: 13\n",
       "     iterations: 12\n",
       "           root: 0.42401138703368835"
      ]
     },
     "execution_count": 5,
     "metadata": {
      "tags": []
     },
     "output_type": "execute_result"
    }
   ],
   "source": [
    "from math import pi, exp\n",
    "from scipy.optimize import root_scalar\n",
    "INFINITY = 1000\n",
    "def u(t):\n",
    "    print(t)\n",
    "    return 5/4 - 40/(pi*pi)*sum([\n",
    "        (-1)**k / (2*k+1) * sum([\n",
    "            (-1)**l * (2*l+1) / ((2*k+1)**2 + (2*l+1)**2) * exp(-pi**2/4*t*((2*k+1)**2 + (2*l+1)**2))\n",
    "        for l in range(INFINITY)])\n",
    "    for k in range(INFINITY)])\n",
    "\n",
    "root_scalar(lambda t: u(t)-1, x0=0, x1=1)"
   ]
  },
  {
   "cell_type": "markdown",
   "metadata": {
    "id": "KwYsPt42v-8c"
   },
   "source": [
    "### Attempt 3: Reducing Dimensionality of the Problem\n",
    "\n",
    "First, let's define some notation:\n",
    "*   Let $P := \\{(x,y): -1\\le x,y \\le 1\\}$ be the square plate\n",
    "*   Let $\\partial P = \\{(x,y): x \\in \\{-1,1\\} \\text{ or } y \\in \\{-1,1\\}\\}$ be the boundary of the square plate\n",
    "\n",
    "\n",
    "\n",
    "Following the exposition in Bornemann's book, we reduce the problem from a two-dimensional one to a one-dimensional one as follows: because solutions of this equation are linear, we have that since we can choose any of the four sides to hold at $u=5$ and so we have that the condition holding all four sides to $u=5/4$ gives the same solution at the center of the plate\n",
    "\n"
   ]
  },
  {
   "cell_type": "markdown",
   "metadata": {
    "id": "jid1QOnbiqd8"
   },
   "source": [
    "![image.png](data:image/png;base64,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)"
   ]
  },
  {
   "cell_type": "markdown",
   "metadata": {
    "id": "Wlzsup67v-40"
   },
   "source": [
    "Therefore, an equivalent initial condition is $u(t,x,y)|_{(x,y) \\in \\partial P}=5/4$. \n",
    "\n",
    "Next, let $\\hat{u}(x,y,t) = 5/4 - u(x,y,t)$. \n",
    "\n",
    "We therefore get that $$\\partial_t \\hat{u} = \\Delta \\hat{u} \\; , \\; \\hat{u}(t,x,y)|_{(x,y) \\in \\partial P} = 0 \\; , \\; \\hat{u}(0,x,y)|_{(x,y) \\notin \\partial P} = 5/4 $$.\n"
   ]
  },
  {
   "cell_type": "markdown",
   "metadata": {
    "id": "fJmoujTZijXS"
   },
   "source": [
    "![image.png](data:image/png;base64,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)"
   ]
  },
  {
   "cell_type": "markdown",
   "metadata": {
    "id": "iP3rZkvNj9Pc"
   },
   "source": [
    "Next, we use seperation of variables and assume that $\\hat{u}(x,y,t) = f(x,t)f(y,t) $. This implies that $f$ must satisfy\n",
    "\n",
    "$$\\partial_t f = \\partial_{xx}f, f(t,-1) = f(t,1) = 0, f(0,x) = \\sqrt{\\frac{5}{4}} $$\n",
    "\n",
    "The time we are looking for is the solution to $f(t,1) = \\frac{1}{2}$.\n",
    "\n",
    "If we make the substitution $x' = x+1 $, we get that our boundary conditons change to $f(t,0) = f(t,2) = 0$ and the interval we are looking at changes from $ x \\in [-1,1] $ to $x' \\in [0,2]$. \n",
    "\n",
    "We use seperation of variables again and assume that we have that (I'm too lazy to keep writing the hat so pretend I'm writing it)\n",
    "\n",
    "$f(\\hat{x},t) = X(x) T(t) $.\n",
    "\n",
    "We therefore have that\n",
    "$$\\frac{T'}{T} = \\frac{X''}{X} = k \\implies \\cases{T' = kT \\\\ X'' = k X } $$\n",
    "\n",
    "We cannot have that k<0 as we have that \n",
    "$X'' = kX \\implies X = c_1 e^{\\sqrt{k}x} + c_2 e^{\\sqrt{k}x} $ for some $ c_1, c_2 \\in \\mathbb{R}$, and therefore, solving for boundary conditions, we have that $\\cases{c_1 + c_2 = 0  \\\\  c_1 e^{2 \\sqrt{k}} + c_2 e^{-2 \\sqrt{k}}} \\implies c_1 = c_2 = 0$ and therefore, we have that this is just a trivial solution.\n",
    "\n",
    "We cannot have that k=0 as in this case, we would have that $X'' = 0 \\implies X = c_1 x + c_2$, and solving for boundary conditions, we have that $\\cases{X(0) = c_2 = 0 \\\\ X(L) = c_1 L + c_2 = 0} \\implies c_1 = c_2 = 0$ which also gives us just the trivial solution.\n",
    "\n",
    "Therefore, we write $k$ as a negative constant by saying that $k = -\\lambda^2$. \n",
    "We can solve for the first-order ODE for $T(t)$ fairly easily:\n",
    "\n",
    "$$T'(t) = -\\lambda^2 T(t) \\implies T(t) = C e^{-\\lambda^2 t} $$\n",
    "\n",
    "We similarly solve for $X(x)$:\n",
    "\n",
    "$X''(x) = -\\lambda^2 X(x) \\implies X'(x) = c_1 \\cos(\\lambda x) + c_2 \\sin(\\lambda x) $.\n",
    "\n",
    "Note however that since we need that $X(0) = 0$, we must have that $c_1 = 0$.\n",
    "\n",
    "We also have that $X(2) = 0$\n",
    "\n",
    "$$\\implies c_2 \\sin(2 \\lambda) = 0 \\implies \\lambda = \\frac{\\pi n}{2}, n \\in \\mathbb{Z} $$\n",
    "\n",
    "However, note that since \n",
    "$\\sin(\\frac{-\\pi n x}{2}) = \\sin(\\frac{\\pi n x}{2})$, we can restrict $n$ to the positive integers.\n",
    "\n",
    "We therefore have that \n",
    "$$f(x,t) = \\sum_{n=0}^{\\infty} c_n \\sin(\\frac{\\pi n x}{2}) e^{-\\frac{\\pi^2 n^2 t}{4}} $$\n",
    "\n",
    "Now, we use the final boundary condition $f(0,x) = \\sqrt{5/4} = \\sum_{n=0}^{\\infty} c_n \\sin(\\frac{\\pi n x}{2}) $ to find the values of $c_n$\n",
    "\n",
    "Let $m \\in \\mathbb{N}$ be an arbitrary integer. Then, we have that\n",
    "\n",
    "\n",
    "$$ \\sqrt{5/4} = \\sum_{n=0}^{\\infty} c_n \\sin(\\frac{\\pi n x}{2}) $$\n",
    "\n",
    "$$ \\implies \\sqrt{5/4} \\sin(\\frac{\\pi m x}{2}) = \\sum_{n=0}^{\\infty} c_n \\sin(\\frac{\\pi m x}{2}) \\sin(\\frac{\\pi n x}{2})$$\n",
    "\n",
    "Now, integrating both sides of the equation from $x=0$ to $2$, we get on the left side that\n",
    "\n",
    "$$ \\int_0^2 \\sqrt{5/4} \\sin(\\frac{\\pi m x}{2}) dx = \\frac{\\sqrt{5} (1-\\cos (\\pi  m))}{\\pi  m} = \\frac{\\sqrt{5}}{\\pi  m} \\left((-1)^{m+1}+1\\right)$$\n",
    "\n",
    "and on the right side, we have that\n",
    "\n",
    "$$ \\int_0^2 \\sum_{n=0}^{\\infty} c_n \\sin(\\frac{\\pi m x}{2}) \\sin(\\frac{\\pi n x}{2}) =  \\sum_{n=0}^{\\infty} c_n \\int_0^2 \\sin(\\frac{\\pi m x}{2}) \\sin(\\frac{\\pi n x}{2}) = \\sum_{n=0}^\\infty c_n \\delta_{mn} = c_m $$\n",
    "\n",
    "We therefore have that $c_m = \\cases{\\frac{2\\sqrt{5}}{(2l+1)\\pi} \\; \\text{if } m=2l+1 \\; \\\\ 0 \\; \\text{otherwise}}$ and our solution becomes\n",
    "\n",
    "$$ f(\\hat{x},t) = $$\n",
    "$$f(x,t) = \\sum_{n=0}^{\\infty} \\frac{2\\sqrt{5}}{(2n+1)\\pi} \\sin(\\frac{\\pi (2n+1) \\hat{x}}{2}) e^{-\\frac{\\pi^2 (2n+1)^2 t}{4}} $$\n",
    "\n",
    "And so the temperature at the center becomes\n",
    "$$u(t) = f(\\hat{x},t)|_{\\hat{x}=1} =  \\sum_{n=0}^{\\infty} \\frac{2\\sqrt{5}}{(2n+1)\\pi} \\sin(\\frac{\\pi (2n+1)}{2}) e^{-\\frac{\\pi^2 (2n+1)^2 t}{4}} = \\frac{2\\sqrt{5}}{\\pi} \\sum_{n=0}^{\\infty} \\frac{(-1)^n}{2n+1} e^{-\\frac{\\pi^2 (2n+1)^2 t}{4}}$$\n",
    "\n",
    "We need to find the time $t_0$ such that $u(t) = 1/2$"
   ]
  },
  {
   "cell_type": "code",
   "execution_count": 4,
   "metadata": {
    "colab": {
     "base_uri": "https://localhost:8080/"
    },
    "executionInfo": {
     "elapsed": 357,
     "status": "ok",
     "timestamp": 1606372902869,
     "user": {
      "displayName": "Husnain Raza",
      "photoUrl": "",
      "userId": "16146658556003895350"
     },
     "user_tz": 360
    },
    "id": "M2XknC8C-DNY",
    "outputId": "62554b42-70a3-4a89-dc48-39ea143821bc"
   },
   "outputs": [
    {
     "name": "stdout",
     "output_type": "stream",
     "text": [
      "0.0\n",
      "1\n",
      "0.6196861810476065\n",
      "0.47311706041063817\n",
      "0.41092732500494633\n",
      "0.42481180111746225\n",
      "0.42402416446409813\n",
      "0.42401137448203585\n"
     ]
    },
    {
     "data": {
      "text/plain": [
       "      converged: True\n",
       "           flag: 'converged'\n",
       " function_calls: 8\n",
       "     iterations: 7\n",
       "           root: 0.42401138703388525"
      ]
     },
     "execution_count": 4,
     "metadata": {
      "tags": []
     },
     "output_type": "execute_result"
    }
   ],
   "source": [
    "from math import *\n",
    "from scipy.optimize import root_scalar\n",
    "INFINITY = 10000\n",
    "\n",
    "# mp.dps = 500\n",
    "def u(t):\n",
    "    print(t)\n",
    "    return 2*sqrt(5)/pi * sum([(-1)**n/(2*n+1) * exp(-pi**2/4 * t * (2*n+1)**2) for n in range(INFINITY)])\n",
    "\n",
    "root_scalar(lambda t: u(t)-0.5, x0=0, x1=1)"
   ]
  },
  {
   "cell_type": "code",
   "execution_count": 7,
   "metadata": {
    "colab": {
     "base_uri": "https://localhost:8080/"
    },
    "executionInfo": {
     "elapsed": 70222,
     "status": "ok",
     "timestamp": 1606373073701,
     "user": {
      "displayName": "Husnain Raza",
      "photoUrl": "",
      "userId": "16146658556003895350"
     },
     "user_tz": 360
    },
    "id": "L1nEJN0kPdm-",
    "outputId": "0e9e316a-6c07-4b6c-ce5f-46de777acd4e"
   },
   "outputs": [
    {
     "name": "stdout",
     "output_type": "stream",
     "text": [
      "0.0\n",
      "0.0\n",
      "0.25\n",
      "0.43934109472574682668880049938503989160434623387538613200060324940723787441601500571568271794073824652171961416551210712507606924948925285259438255801702120721862615013030594161966491344079392583485266383362673761156277257467011140259911353838551977483721051550987346005277089932409405387264513636970063126153178059055638997322619968704735212080947208091087926709767423829277515642276289981793769004236636308318209196010275914586207178585979383540811153231625582517348634158624841985322192569304588845865559\n",
      "0.42701346573100667485224916996780080239496058591295341453093847547868585857674020465193968273312388663156895701532827537617752715418002922253473164413605397799929739481547743867736365778841996429805640389934203153348317251502698051437162491974088462539947604831294916452923083230704569879621033086166424042960299196606439443799373324353203840399720013310242495397757516141378769887895833935666325720536591352313646444952239031200378678127638355369632768942662268844645392565401101536150973329906291068940554\n",
      "0.42395446662221645806757903878244711928459682005363804295161575401597481681617804869986805735881721003735936067111624560738587934934003895989193817823594189753758288815788718915896523892835114313289222085546309296136625440124680193151850397230121393413989553484456279227132851213392940349546505507521555537012256074259712813597484899055775422791385752876833641339249459577523115680408457691419395213633297414257202186760224903827790396164747307061436083937023129023684497128386368839458663160704858913338117\n",
      "0.42401159694922605323060635277304681201269520788950286061062089056465483260685757833546303504640437245930873993435687319504609518261014564285095002597485920674694347374501820973240019989773307081663996416127177227123219099698258051186206962170531161745055442328557996558685699323670803460831318246627628956309936777612390682856648765491767275783846548746112442930258296435755457194420444904346378546269401323070856756130908633720381778004531653310950958589888149431403453412791311466230170443054684676930726\n",
      "0.42401138704834677584367919918116337312839892872216855348750801599838612017127293356837844520553370434615945593062202458680256473939102255168235062472051816334126830427870735682286827998493786104592107643751603580109269812163830672934784154038917560842073104817687482220084969207089681487075138934029688580902394959513370199967008143934446645242305408623006650053389036624676703855206524809319589423121301088955806635082872329754380981049989883059508556101501262712643314530955671062726128251674885708570609\n",
      "0.42401138703368836002243466926331400028367632983462601123052148877056388837187306546523017098557792397871648160479443835017084510595580600279960957824733236616044022652284143485765516772509828872837270137527606495230044696492115029708463851348718578864498193592729161700695647202150884382974900679405262152387308677242652867701990185440959770637333179866646688095872913511861681671779015573940279679835766753599854268030875025577148187547585185160920721045659497659413348033475975642818593377590825782856968\n",
      "0.4240113870336883637974336686611438323735726549041906347844528001184961873048439981528517004973467301558082898586233786556338114897501809803076647229466569044186975965368832766083168996977389604583221325938739751779282348345690183322761591090879535069834425223637346663823010977054691865478635159947302310359525034882118377847042934555826810720420635467175173768075493797865520620497440332763937272316501630207179039809612307712121275235880330856949721398520172253579824544830994699654739016685740028399005\n",
      "0.42401138703368836379743366859325645124776209097868102268092610892920210814523013654563379076068375991983155634698337451199446253538443682740565223939175567165218957823184640728410729887964253133349151618564589937625308112845778096892528024774161801712026453882922545598398112259126184785521458919978038293367926422109061978650350055421166512318620463529473619706659801186742508622148336049480814885101181899511556164519414815175279752224146590871786847826996204244833570115439441017023259836402567578671501\n",
      "0.42401138703368836379743366859325645124776209066427476219711249591331017693137791141369694000439233030184100042244600429900031687702302616573304533476166363896324116176014636774884071316855686496402090774761009686525564509627594140324967950399370871700568942179898953262382717686188094894648137329415559057886993106582951992257036305221631236305371641971531732195619041017877869850965588216741751089643052953626513619346016717580414131922061964946014161830542720836944449267466748088908208936303321063435872\n",
      "0.42401138703368836379743366859325645124776209066427476219711249591331017695756369229707244229447701122202408200864627951187000693201191463095941383767187589984163867623923095455862664892545488676609845415541296771830637695070182055271491057446465858722001983304645342737428739237897195979980219478761929486067429602533862710044648663889739160568574682279949489184320082293241631241337622752405991079382504446003568621552902268516107961273305978567698161165917067911025331093345500361453801493810580764229602\n",
      "0.42401138703368836379743366859325645124776209066427476219711249591331017695756369229707244229447701122202408200864627950176952715063094132933531748486364946855119847505425770123915415224176448563577898861112251763831846035245656700348254668070524046496608994822209281649398372397583572015653979147338182664304739324951348682272649712770305472589630211185755641755991502984883164437843964336978655269247525720986926331031766294585580628911815846003035126133718741400982754064118984081246209177638803931561723\n",
      "0.42401138703368836379743366859325645124776209066427476219711249591331017695756369229707244229447701122202408200864627950176952715063094132933531748486364946855119847505425770123915415224176448531129533597298412346638387467712281173756363541490214501680915282853188397676800263740142602257158142280170819307091049888755539893057086262112717863920653934894132595010749219846524177389130395427081760718027264643718324514994084927233013456873044220573903643111326550926363355751586233191029038363360679530952726\n",
      "0.42401138703368836379743366859325645124776209066427476219711249591331017695756369229707244229447701122202408200864627950176952715063094132933531748486364946855119847505425770123915415224176448531129533597298412346638387467712281173756363541490214501680915282853188397676800263740142602257158142280170819307091050290842616456937655839085278519925140012274453958629356567292414642637482069027100789622198416106503372714908908842164423214864734645931255854155865918629116319808287919789952186733946840728036171\n",
      "0.42401138703368836379743366859325645124776209066427476219711249591331017695756369229707244229447701122202408200864627950176952715063094132933531748486364946855119847505425770123915415224176448531129533597298412346638387467712281173756363541490214501680915282853188397676800263740142602257158142280170819307091050290842616456937655839085278519925140012274453958629356567292414642637482069027100789622198416106503372714908908842164423214864734645931255854155865918629116319808287919789952186733946840728036011\n",
      "0.42401138703368836379743366859325645124776209066427476219711249591331017695756369229707244229447701122202408200864627950176952715063094132933531748486364946855119847505425770123915415224176448531129533597298412346638387467712281173756363541490214501680915282853188397676800263740142602257158142280170819307091050290842616456937655839085278519925140012274453958629356567292414642637482069027100789622198416106503372714908908842164423214864734645931255854155865918629116319808287919789952186733946840728036011\n"
     ]
    },
    {
     "data": {
      "text/plain": [
       "mpf('0.42401138703368836379743366859325645124776209066427476219711249591331017695756369229707244229447701122202408200864627950176952715063094132933531748486364946855119847505425770123915415224176448531129533597298412346638387467712281173756363541490214501680915282853188397676800263740142602257158142280170819307091050290842616456937655839085278519925140012274453958629356567292414642637482069027100789622198416106503372714908908842164423214864734645931255854155865918629116319808287919789952186733946840728036')"
      ]
     },
     "execution_count": 7,
     "metadata": {
      "tags": []
     },
     "output_type": "execute_result"
    }
   ],
   "source": [
    "from mpmath import *\n",
    "mp.dps = 500\n",
    "K = 2*sqrt(5)/pi\n",
    "def u(t):\n",
    "    print(t)\n",
    "    return K * nsum(lambda n: (-1)**n/(2*n+1) * exp(-pi**2/4 * t * (2*n+1)**2), [0, inf])\n",
    "findroot(lambda t: u(t)-0.5, 0)"
   ]
  }
 ],
 "metadata": {
  "colab": {
   "authorship_tag": "ABX9TyMYnQ19Ml7BNtoJ5dpDnUdJ",
   "name": "Problem 8",
   "provenance": []
  },
  "kernelspec": {
   "display_name": "Python 3",
   "language": "python",
   "name": "python3"
  },
  "language_info": {
   "codemirror_mode": {
    "name": "ipython",
    "version": 3
   },
   "file_extension": ".py",
   "mimetype": "text/x-python",
   "name": "python",
   "nbconvert_exporter": "python",
   "pygments_lexer": "ipython3",
   "version": "3.6.9"
  }
 },
 "nbformat": 4,
 "nbformat_minor": 1
}
