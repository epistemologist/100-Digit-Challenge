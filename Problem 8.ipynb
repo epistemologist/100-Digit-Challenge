{
 "cells": [
  {
   "cell_type": "markdown",
   "metadata": {
    "id": "0kwSi3sZmvc8"
   },
   "source": [
    "# Problem 8\n",
    "A square plate $[-1,1]\\times[-1,1]$ is at temperature $u = 0$. At time $t = 0$, the temperature is increased to $u=5$ along one of the four sides while being held at $u=0$ on the other three sides, and heat then flows into the flate according to $u_t = \\Delta u$. When does the temperature reach $u=1$ at the center of the plate?"
   ]
  },
  {
   "cell_type": "markdown",
   "metadata": {
    "id": "Ii9TnlShLMYB"
   },
   "source": [
    "### Finite Difference Method"
   ]
  },
  {
   "cell_type": "markdown",
   "metadata": {
    "id": "QpOox-UlmTDu"
   },
   "source": [
    "Note that we have by the definition of a derivative that \n",
    "\n",
    "$$ \\frac{\\partial u}{\\partial t} = \\lim_{\\Delta t \\rightarrow 0} \\frac{u(x,y,t+\\Delta t)-u(x,y,t)}{\\Delta t}$$\n",
    "\n",
    "so we can approxmiate $\\frac{\\partial u}{\\partial t} $ by ignoring the limit and making $\\Delta t$ sufficiently small.\n",
    "\n",
    "Similarly, we can approximate the second derivative of a function $f(x)$ as follows:\n",
    "\n",
    "$$\\begin{align*}\n",
    "&\\begin{cases}\n",
    "f(x+\\Delta x) = f(x) + \\Delta x \\cdot f'(x) + \\frac{(\\Delta x)^2}{2!} f''(x) + \\frac{(\\Delta x)^3}{3!} f^{(3)}(x) + O((\\Delta x)^4) \\\\\n",
    "f(x-\\Delta x) = f(x) - \\Delta x \\cdot f'(x) + \\frac{(\\Delta x)^2}{2!} f''(x) - \\frac{(\\Delta x)^3}{3!} f^{(3)}(x) + O((\\Delta x)^4) \n",
    "\\end{cases} \\\\\n",
    "&\\; \\implies f(x+\\Delta x) + f(x-\\Delta x) = 2f(x) + (\\Delta x)^2 f''(x) + O((\\Delta x)^4) \n",
    "\\end{align*}$$\n",
    "Therefore, we have that $$ \\frac{d^2 f}{d x^2} = \\lim_{\\Delta x \\rightarrow 0} \\frac{f(x + \\Delta{x}) - 2f(x) + f(x-\\Delta x)}{(\\Delta x)^2}$$\n",
    "\n",
    "We can use these approximations to discretize the given problem. \n",
    "\n",
    "\n",
    "The following code snippet plots the temperature at the center of the plate (More information and the code that this is modified from can be found [here](https://lorenabarba.com/blog/cfd-python-12-steps-to-navier-stokes/#:~:text=The%20module%20is%20called%20%2212%20steps%20to%20Navier-Stokes,her%20students%20over%20several%20semesters%20teaching%20the%20course.)):"
   ]
  },
  {
   "cell_type": "code",
   "execution_count": 1,
   "metadata": {
    "colab": {
     "base_uri": "https://localhost:8080/",
     "height": 298
    },
    "executionInfo": {
     "elapsed": 31981,
     "status": "ok",
     "timestamp": 1604794427911,
     "user": {
      "displayName": "Husnain Raza",
      "photoUrl": "",
      "userId": "16146658556003895350"
     },
     "user_tz": 360
    },
    "id": "CiiOmeI0Jrwn",
    "outputId": "1d84ea25-a91d-4028-ad28-35d96b755f4c"
   },
   "outputs": [
    {
     "name": "stderr",
     "output_type": "stream",
     "text": [
      "100%|██████████████| 50000/50000 [00:39<00:00, 1280.28it/s]\n"
     ]
    },
    {
     "data": {
      "image/png": "[encoded data removed]",
      "text/plain": [
       "<Figure size 640x480 with 1 Axes>"
      ]
     },
     "metadata": {},
     "output_type": "display_data"
    },
    {
     "name": "stdout",
     "output_type": "stream",
     "text": [
      "(0.43256483422135805, 1.0000113247900924)\n"
     ]
    }
   ],
   "source": [
    "import numpy as np\n",
    "import matplotlib.pyplot as plt\n",
    "import tqdm\n",
    "nx = ny = 200\n",
    "nu = 1\n",
    "dx = 2 / (nx - 1)\n",
    "dy = 2 / (ny - 1)\n",
    "sigma = 0.25\n",
    "dt = sigma * dx * dy / nu\n",
    "\n",
    "x = np.linspace(0, 2, nx)\n",
    "y = np.linspace(0, 2, ny)\n",
    "\n",
    "u = np.zeros((ny, nx))\n",
    "un = np.zeros((ny, nx))\n",
    "\n",
    "time_elapsed = []\n",
    "center_temp = []\n",
    "\n",
    "for i in tqdm.tqdm(range(50000)):\n",
    "    un = u.copy()\n",
    "    u[1:-1, 1:-1] = (un[1:-1,1:-1] + \n",
    "                    nu * dt / dx**2 * \n",
    "                    (un[1:-1, 2:] - 2 * un[1:-1, 1:-1] + un[1:-1, 0:-2]) +\n",
    "                    nu * dt / dy**2 * \n",
    "                    (un[2:,1: -1] - 2 * un[1:-1, 1:-1] + un[0:-2, 1:-1]))\n",
    "    u[0,:] = 5\n",
    "    u[-1,:] = 0\n",
    "    u[:,0] = 0\n",
    "    u[:,-1] = 0\n",
    "    time_elapsed.append(dt*i)\n",
    "    center_temp.append(u[nx//2,ny//2])\n",
    "plt.plot(time_elapsed, center_temp)\n",
    "plt.xlabel(\"t\"), plt.ylabel(\"temperature at center of plate\")\n",
    "plt.show()\n",
    "print(min([(time_elapsed[i], center_temp[i]) for i in range(len(time_elapsed))], key = lambda x: abs(1-x[1])))"
   ]
  },
  {
   "cell_type": "markdown",
   "metadata": {},
   "source": [
    "We can also [modify the above code](https://gist.github.com/epistemologist/be48d103bc230b99655a3db79df46de3) to plot the temperature of the whole plate:"
   ]
  },
  {
   "cell_type": "code",
   "execution_count": 2,
   "metadata": {
    "colab": {
     "base_uri": "https://localhost:8080/",
     "height": 421,
     "output_embedded_package_id": "1Jkfux0UFXjgtIc5yzlkTvdzVUjGiy82V"
    },
    "executionInfo": {
     "elapsed": 3201,
     "status": "ok",
     "timestamp": 1604897482678,
     "user": {
      "displayName": "Husnain Raza",
      "photoUrl": "",
      "userId": "16146658556003895350"
     },
     "user_tz": 360
    },
    "id": "09TBXACLKh0B",
    "outputId": "1932c039-2989-4ef7-ac27-9fd1ba77a93b"
   },
   "outputs": [
    {
     "data": {
      "text/html": [
       "\n",
       "    <video width=50% height=auto alt=\"test\" controls>\n",
       "        <source src=\"hot_plate.mp4\" type=\"video/mp4\">\n",
       "    </video>\n"
      ],
      "text/plain": [
       "<IPython.core.display.HTML object>"
      ]
     },
     "execution_count": 2,
     "metadata": {},
     "output_type": "execute_result"
    }
   ],
   "source": [
    "from IPython.display import HTML\n",
    "\n",
    "HTML(\"\"\"\n",
    "    <video width=50% height=auto alt=\"test\" controls>\n",
    "        <source src=\"hot_plate.mp4\" type=\"video/mp4\">\n",
    "    </video>\n",
    "\"\"\")"
   ]
  },
  {
   "cell_type": "markdown",
   "metadata": {
    "id": "FqVfeDli2M5d"
   },
   "source": [
    "### Attempt 2: Fourier Series\n",
    "\n",
    "The posed problem is a typical example of one that is well-suited for a solution using Fourier analysis (see for example \"Fourier Transforms\" by Sneddon p185 whose exposition we will closely follow), and this method was how it was solved by [one team](https://matheplanet.com/matheplanet/nuke/html/matroid/siam/siam_results.pdf)\n",
    "\n",
    "![Figure 1](media/prob8/fig1.png)\n",
    "\n",
    "\n"
   ]
  },
  {
   "cell_type": "markdown",
   "metadata": {
    "id": "3PuJsJrY3XQh"
   },
   "source": [
    "We want a function $ u(x,y,t): [0, a] \\times [0, b] \\times \\mathbb{R}_{\\ge 0} \\to \\mathbb{R} $ that represents the temperature at a point $(x,y)$ on the rectangle at any given time $t > 0$. We solve for $u$ satisfying a more general situation and then plug in values specific to the given question.\n",
    "\n",
    "Let $ u(x,y,t) $ satisfy the partial differential equation with corresponding boundary conditions:\n",
    "\n",
    "$$\\kappa \\left(\\frac{\\partial^2u}{\\partial{x^2}} + \\frac{\\partial^2u}{\\partial{y^2}}\\right) = \\frac{\\partial{u}}{\\partial{t}}, \\;\\;\\; \\begin{cases} u(x,0,t) = f(x) \\\\ u(0,y,t) = u(a,y,t) = 0 \\\\ u(x,b,t) = 0 \\\\ u(x,y,0) = 0  \\end{cases} $$\n",
    "\n",
    "Next, we have by repeated integration by parts that\n",
    "\n",
    "$$ \\begin{align*} \n",
    "&\\int_0^b \\left( dy \\; \\frac{\\partial^2{u}}{\\partial{y^2}} \\right) \\left( \\sin{\\left(\\frac{\\pi n y}{b}\\right)}\\right) \\\\ \n",
    "&= \\left( \\sin{\\left( \\frac{\\pi n y}{b}\\right)} \\frac{\\partial{u}}{\\partial{y}} \\right)\\Big|_{y=0}^{y=b} - \\frac{\\pi n}{b} \\left( \\cos{\\left( \\frac{\\pi n y}{b}\\right)} u\\right)\\Big|_{y=0}^{y=b} - \\frac{\\pi^2 n^2}{b^2} \\int_0^b \\sin{\\left(\\frac{\\pi n y}{b}\\right)} \\; u \\; dy \\\\\n",
    "&= 0 - \\frac{\\pi n}{b} \\left( \\cos{(n \\pi)} u \\Big|_{y=b} - u\\Big|_{y=0}\\right)-\\frac{\\pi^2 n^2}{b^2} \\int_0^b \\sin{\\left(\\frac{\\pi n y}{b}\\right)} \\; u \\; dy \\\\\n",
    "&= \\frac{\\pi n}{b} f(x) - \\frac{\\pi^2 n^2}{b^2} \\int_0^b \\sin{\\left(\\frac{\\pi n y}{b}\\right)} \\; u \\; dy\n",
    "\\end{align*}$$\n",
    "\n",
    "Multiplying both sides of this equation by $\\sin{\\left( \\frac{\\pi m x }{a}\\right)}$ and integrating both sides from $x = 0$ to $a$, we get:\n",
    "\n",
    "$$ \\int_0^a \\int_0^b \\frac{\\partial^2 u}{\\partial y^2} \\sin{\\left(\\frac{\\pi m x}{a}\\right)} \\sin{\\left(\\frac{\\pi n y}{b}\\right)} dy dx = \\\\ \\frac{\\pi n}{b} \\underbrace{\\int_0^a f(x)\\sin{\\left(\\frac{\\pi m x}{a}\\right)}dx}_{:=F_s(m)}  - \\frac{\\pi^2 n^2 }{b^2} \\underbrace{\\int_0^a \\int_0^b dy \\; dx \\; u(x,y,t) \\sin{\\left(\\frac{\\pi m x}{a}\\right)} \\sin{\\left(\\frac{\\pi n y}{b}\\right)}}_{:=U(m,n,t)}  $$ \n",
    "\n",
    "Similarly, we have that\n",
    "\n",
    "$$ \\begin{align*}\n",
    "\\int_0^a &dx \\frac{\\partial^2 u}{\\partial x^2} \\sin{\\left(\\frac{\\pi m x}{a}\\right)}  \\\\\n",
    "&= \\left( \\sin{\\left( \\frac{\\pi m x}{a}\\right)} \\frac{\\partial u}{\\partial x} \\right)\\Big|_{x=0}^{x=a} - \\frac{\\pi m}{a} \\left( \\cos{\\left( \\frac{\\pi m x}{a} \\right)} u \\right) \\Big|_{x=0}^{x=a} - \\frac{\\pi^2 m^2}{a^2} \\int_0^a dx \\; u \\sin{\\left( \\frac{\\pi m x}{a} \\right)} \\\\\n",
    "&= - \\frac{\\pi^2 m^2}{a^2} \\int_0^a dx \\; u \\sin{\\left( \\frac{\\pi m x}{a} \\right)} \\\\\n",
    "\\end{align*}\n",
    "$$\n",
    "and therefore:\n",
    "$$\n",
    "\\begin{align*}\n",
    "\\implies \\int_0^b dy \\int_0^a dx \\left( \\frac{\\partial^2 u}{\\partial x^2} \\sin{\\left(\\frac{\\pi m x}{a}\\right)} \\sin{\\left( \\frac{\\pi n y}{b} \\right)} \\right) &= - \\frac{\\pi^2 m^2}{a^2} \\int_0^b dy  \\int_0^a  dx \\; u \\sin{\\left( \\frac{\\pi m x}{a} \\right)} \\sin{\\left( \\frac{\\pi n y}{b} \\right)} \\\\\n",
    "&= - \\frac{\\pi^2 m^2}{a^2} U(m,n)\n",
    "\\end{align*}$$\n",
    "\n",
    "Returning to the original differential equation, we have:\n",
    "$$ \\begin{align*}\n",
    "\\kappa \\left(\\frac{\\partial^2u}{\\partial{x^2}} + \\frac{\\partial^2u}{\\partial{y^2}}\\right) &= \\frac{\\partial{u}}{\\partial{t}} \\\\\n",
    "\\implies \\kappa \\sin{\\left(\\frac{\\pi m x}{a}\\right)}\\sin{\\left(\\frac{\\pi n y}{b}\\right)}  \\left( \\frac{\\partial^2u}{\\partial{x^2}} + \\frac{\\partial^2u}{\\partial{y^2}}\\right) &= \\sin{\\left(\\frac{\\pi m x}{a}\\right)}\\sin{\\left(\\frac{ \\pi n y}{b}\\right)} \\left( \\frac{\\partial u}{\\partial t}\\right)\\\\\n",
    "\\implies \\kappa \\iint_{{0 \\le x \\le a} \\\\ {0 \\le y \\le b}} dA \\sin{\\left(\\frac{\\pi m x}{a}\\right)}\\sin{\\left(\\frac{ \\pi n y}{b}\\right)}  \\left( \\frac{\\partial^2u}{\\partial{x^2}} + \\frac{\\partial^2u}{\\partial{y^2}}\\right) &=  \\iint_{{0 \\le x \\le a} \\\\ {0 \\le y \\le b}} dA \\sin{\\left(\\frac{\\pi m x}{a}\\right)}\\sin{\\left(\\frac{\\pi n y}{b}\\right)} \\left( \\frac{\\partial u}{\\partial t}\\right)\n",
    "\\end{align*}$$\n",
    "\n",
    "The left-hand side splits into the two integrals we have calculated above, and the right hand side is $\\frac{\\partial U}{\\partial t}$ by [differentiation under the integral sign](https://en.wikipedia.org/wiki/Leibniz_integral_rule). We therefore have the following first-order differential equation for $U$ with corresponding boundary condition:\n",
    "\n",
    "$$\\frac{\\partial U}{\\partial t} + \\kappa \\pi^2 \\left(\\frac{m^2}{a^2} + \\frac{n^2}{b^2}\\right) U = \\frac{\\kappa n \\pi}{b} F_s(m), \\; U(m,n,0) = 0 $$ \n",
    "\n",
    "Substituing known constants from the problem, we have that $\\kappa = 1, a = b = 2, $ and $ f(x) = 5 \\implies F_s(m) = \\int_0^a 5 \\sin{(\\frac{m\\pi x}{2})}dx = \\frac{20 \\sin^2{(\\frac{\\pi m}{2}})}{\\pi m} $."
   ]
  },
  {
   "cell_type": "code",
   "execution_count": 3,
   "metadata": {
    "colab": {
     "base_uri": "https://localhost:8080/",
     "height": 65
    },
    "executionInfo": {
     "elapsed": 4170,
     "status": "ok",
     "timestamp": 1606373346581,
     "user": {
      "displayName": "Husnain Raza",
      "photoUrl": "",
      "userId": "16146658556003895350"
     },
     "user_tz": 360
    },
    "id": "s4Pq4KJd-qWB",
    "outputId": "7e060769-6958-412d-e070-ce4b0f19fb87"
   },
   "outputs": [
    {
     "data": {
      "text/latex": [
       "$\\displaystyle \\frac{20 n \\left(\\left(-1\\right)^{m} + \\left(\\left(-1\\right)^{m + 1} + 1\\right) e^{\\frac{\\pi^{2} t \\left(m^{2} + n^{2}\\right)}{4}} - 1\\right) e^{- \\frac{\\pi^{2} t \\left(m^{2} + n^{2}\\right)}{4}}}{\\pi^{2} m \\left(m^{2} + n^{2}\\right)}$"
      ],
      "text/plain": [
       "20*n*((-1)**m + ((-1)**(m + 1) + 1)*exp(pi**2*t*(m**2 + n**2)/4) - 1)*exp(-pi**2*t*(m**2 + n**2)/4)/(pi**2*m*(m**2 + n**2))"
      ]
     },
     "execution_count": 3,
     "metadata": {},
     "output_type": "execute_result"
    }
   ],
   "source": [
    "from sympy import symbols, Function, Derivative, Eq\n",
    "import sympy as sp\n",
    "\n",
    "m,n = symbols(\"m n\", integer=True)\n",
    "t = symbols(\"t\", real=True)\n",
    "U = Function(\"U\")(t)\n",
    "\n",
    "k = 1\n",
    "a = 2; b = 2\n",
    "\n",
    "F_s = 20 * sp.sin(sp.pi * m / 2)**2 / (sp.pi * m)\n",
    "\n",
    "# Solve for U\n",
    "diff_eq = Eq(Derivative(U, t) + k * sp.pi**2 * (m**2/a**2 + n**2/b**2) * U, k*n*sp.pi/b * F_s)\n",
    "solution = sp.dsolve(diff_eq).rhs\n",
    "# Solve for boundary condition (U(t=0) = 0)\n",
    "constant = sp.solve(solution.subs(t, 0))\n",
    "# Update solution with value of arbitrary constant\n",
    "solution = sp.simplify(solution.subs(*constant))\n",
    "\n",
    "assert sp.simplify(diff_eq.subs({U: solution}))\n",
    "\n",
    "solution"
   ]
  },
  {
   "cell_type": "markdown",
   "metadata": {
    "id": "IorJ_IU3sq3e"
   },
   "source": [
    "##### Inverse Fourier Transform\n",
    "\n",
    "Let $F(m,n) = \\int_0^2 \\int_0^2 f(x,y) \\sin{(\\frac{\\pi m x}{2})} \\sin{(\\frac{\\pi n y}{2})} dx dy $ and assume $$f(x,y) = \\sum_{(m',n')\\in \\mathbb{N}^2 } a_{m'n'} \\sin{\\left(\\frac{\\pi m' x}{2}\\right)} \\sin{\\left(\\frac{\\pi n' y}{2}\\right)} $$\n",
    "\n",
    "We therefore have\n",
    "\n",
    "$$\\begin{align*}F(m,n) &= \\int_0^2 \\int_0^2 dx dy \\sum_{(m',n')\\in \\mathbb{N}^2 } a_{m'n'} \\sin{\\left(\\frac{m' \\pi x}{2}\\right)} \\sin{\\left(\\frac{n'\\pi y}{2}\\right)} \\\\\n",
    "&= \\sum_{(m',n') \\in \\mathbb{N}^2 }  a_{m'n'} \\left( \\int_0^2 \\sin{\\left(\\frac{m \\pi x}{2}\\right)} \\sin{\\left(\\frac{m' \\pi x}{2}\\right)} dx\\right) \\left( \\int_0^2 \\sin{\\left(\\frac{n \\pi y}{2}\\right)} \\sin{\\left(\\frac{n' \\pi y}{2}\\right)} dy \\right) \\\\\n",
    "&= \\sum_{(m',n') \\in \\mathbb{N}^2 } a_{m'n'} \\delta_{mm'} \\delta_{nn'} = a_{mn}\\end{align*} $$\n",
    "\n",
    "\n",
    "We therefore have that $$ \\begin{align*} u(x,y,t) &= \\sum_{m,n > 0} U(m,n,t) \\sin{\\left(\\frac{\\pi m' x}{2}\\right)} \\sin{\\left(\\frac{\\pi n' y}{2}\\right)} \\\\ &= \\sum_{m=1}^\\infty \\sum_{n=1}^\\infty \\frac{20 n e^{- \\frac{\\pi^{2} t}{4} \\left(m^{2} + n^{2}\\right)}}{\\pi^{2} m \\left(m^{2} + n^{2}\\right)} \\left(\\left(-1\\right)^{m} + \\left(- \\left(-1\\right)^{m} + 1\\right) e^{\\frac{\\pi^{2} t}{4} \\left(m^{2} + n^{2}\\right)} - 1\\right)\n",
    "\\sin{\\left(\\frac{m \\pi x}{2}\\right)} \\sin{\\left(\\frac{n \\pi y}{2}\\right)} \\end{align*}$$\n",
    "\n",
    "Let $c(t) = u(1,1,t)$ be the temperature of the middle of the plate at time $t$. We have:\n",
    "\n",
    "\n",
    "$$ c(t) = \\sum_{m=1}^\\infty \\sum_{n=1}^\\infty \\frac{20 n e^{- \\frac{\\pi^{2} t}{4} \\left(m^{2} + n^{2}\\right)}}{\\pi^{2} m \\left(m^{2} + n^{2}\\right)} \\left(\\left(-1\\right)^{m} + \\left(- \\left(-1\\right)^{m} + 1\\right) e^{\\frac{\\pi^{2} t}{4} \\left(m^{2} + n^{2}\\right)} - 1\\right)\n",
    "\\sin{\\left(\\frac{m \\pi}{2}\\right)} \\sin{\\left(\\frac{n \\pi}{2}\\right)}  $$\n",
    "\n",
    "Noting that the terms corresponding to odd $m$ and $n$ contribute to the sum, we let $m \\mapsto 2k+1, n \\mapsto 2l+1$, leaving us with the following:"
   ]
  },
  {
   "cell_type": "code",
   "execution_count": 4,
   "metadata": {
    "colab": {
     "base_uri": "https://localhost:8080/",
     "height": 67
    },
    "executionInfo": {
     "elapsed": 2583,
     "status": "ok",
     "timestamp": 1606373357935,
     "user": {
      "displayName": "Husnain Raza",
      "photoUrl": "",
      "userId": "16146658556003895350"
     },
     "user_tz": 360
    },
    "id": "ek1PES-vBzIQ",
    "outputId": "bf19a386-cbfc-49d8-bb70-fe5e2a9ce473"
   },
   "outputs": [
    {
     "data": {
      "text/latex": [
       "$\\displaystyle \\frac{40 \\left(-1\\right)^{k + l + 1} \\cdot \\left(1 - e^{\\frac{\\pi^{2} t \\left(\\left(2 k + 1\\right)^{2} + \\left(2 l + 1\\right)^{2}\\right)}{4}}\\right) \\left(2 l + 1\\right) e^{- \\frac{\\pi^{2} t \\left(\\left(2 k + 1\\right)^{2} + \\left(2 l + 1\\right)^{2}\\right)}{4}}}{\\pi^{2} \\cdot \\left(2 k + 1\\right) \\left(\\left(2 k + 1\\right)^{2} + \\left(2 l + 1\\right)^{2}\\right)}$"
      ],
      "text/plain": [
       "40*(-1)**(k + l + 1)*(1 - exp(pi**2*t*((2*k + 1)**2 + (2*l + 1)**2)/4))*(2*l + 1)*exp(-pi**2*t*((2*k + 1)**2 + (2*l + 1)**2)/4)/(pi**2*(2*k + 1)*((2*k + 1)**2 + (2*l + 1)**2))"
      ]
     },
     "execution_count": 4,
     "metadata": {},
     "output_type": "execute_result"
    }
   ],
   "source": [
    "k,l = symbols(\"k l\", integer=True)\n",
    "\n",
    "summand = (solution*sp.sin(m*sp.pi/2)*sp.sin(n*sp.pi/2)).subs({m: 2*k+1, n: 2*l+1})\n",
    "\n",
    "sp.simplify(summand, ratio=2.5)"
   ]
  },
  {
   "cell_type": "markdown",
   "metadata": {},
   "source": [
    "However, the summand as is is numerically unstable due to the exponential term containing a large exponent - to remedy this, we rewrite it to ignore this term to get:\n",
    "\n",
    "$$ c(t) = \\frac{40}{\\pi^2} \\sum_{k>0} \\frac{(-1)^k}{2k+1} \\sum_{l>0} \\frac{(-1)^l(2l+1)}{(2k+1)^2 + (2l+1)^2}\\left( 1 - e^{\\frac{-\\pi^2 t}{4}((2k+1)^2 + (2l+1)^2) } \\right) $$\n",
    "\n",
    "We use standard root-finding techniques to find the time $\\hat{t}$ such that $c(t) = 1$"
   ]
  },
  {
   "cell_type": "code",
   "execution_count": 5,
   "metadata": {
    "colab": {
     "base_uri": "https://localhost:8080/"
    },
    "executionInfo": {
     "elapsed": 72549,
     "status": "ok",
     "timestamp": 1606373434681,
     "user": {
      "displayName": "Husnain Raza",
      "photoUrl": "",
      "userId": "16146658556003895350"
     },
     "user_tz": 360
    },
    "id": "_USpR8dIP7-W",
    "outputId": "b43c3ae6-b2dc-4ebd-97d7-a9c86b9d7c60"
   },
   "outputs": [
    {
     "name": "stdout",
     "output_type": "stream",
     "text": [
      "0.4\n",
      "0.6\n",
      "0.436506478770665\n",
      "0.418735624237873\n",
      "0.42483118120699204\n",
      "0.42466025478039293\n",
      "0.4246577393016545\n",
      "CPU times: user 20.9 s, sys: 156 ms, total: 21.1 s\n",
      "Wall time: 21.2 s\n"
     ]
    },
    {
     "data": {
      "text/plain": [
       "      converged: True\n",
       "           flag: 'converged'\n",
       " function_calls: 7\n",
       "     iterations: 6\n",
       "           root: 0.424657740374531"
      ]
     },
     "execution_count": 5,
     "metadata": {},
     "output_type": "execute_result"
    }
   ],
   "source": [
    "from math import exp, pi\n",
    "summand_fn = lambda k,l,t: (40 * pow(-1, k+l) * (2*l+1) * (1 - exp(-pi**2*t*((2*k+1)**2 + (2*l+1)**2)/4))) / (pi**2 * (2*k+1) * ((2*k+1)**2 + (2*l+1)**2))\n",
    "INFINITY = 1000\n",
    "c = lambda t: sum([summand_fn(k,l,t) for k in range(INFINITY) for l in range(INFINITY)])\n",
    "from scipy.optimize import root_scalar\n",
    "def f(t):\n",
    "    print(t)\n",
    "    return c(t)-1\n",
    "%time root_scalar(f, x0=0.4, x1=0.6, rtol=1e-8)"
   ]
  },
  {
   "cell_type": "markdown",
   "metadata": {
    "id": "_Wp_5evy4HYw"
   },
   "source": [
    "Note that this only gives 3 accurate digits; note that the inner sum decays like $O(l^{-1})$ and therefore, to get an error of $10^{-10}$ we would need to sum the series for $0 < k,l < 10^{10}$ for a total of $10^{100}$ terms - we get around this by solving this sum analytically\n",
    "\n",
    "We can break apart the sum to get rid of the part that does not decay quickly enough:\n",
    "\n",
    "$$ \\begin{align*}\n",
    "c(t) &= \\frac{40}{\\pi^2} \\sum_{k,l>0} \\frac{(-1)^{k+l} (2l+1)}{(2k+1)((2k+1)^2 + (2l+1)^2)} \\left( 1 - e^{\\frac{-\\pi^2 t}{4}((2k+1)^2 + (2l+1)^2) } \\right) \\\\\n",
    "&= \\frac{40}{\\pi^2} \\left( \\underbrace{ \\sum_{k,l>0} \\frac{(-1)^{k+l} (2l+1)}{(2k+1)((2k+1)^2 + (2l+1)^2)}}_{S} - \\sum_{k,l>0} \\frac{(-1)^{k+l} (2l+1) e^{\\frac{-\\pi^2 t}{4}((2k+1)^2 + (2l+1)^2) }}{(2k+1)((2k+1)^2 + (2l+1)^2)} \\right) \n",
    "\\end{align*}$$\n",
    "\n",
    "We continue by analytically solving for the sum $S$"
   ]
  },
  {
   "cell_type": "markdown",
   "metadata": {
    "id": "gcr6kFeXPg28"
   },
   "source": [
    "##### A Weird Sum\n",
    "\n",
    "We consider the following related sum\n",
    "\n",
    "$$\\sum_{n=0}^\\infty \\frac{(-1)^n (2n+1)}{(2n+1)^2 - a^2}$$\n",
    "\n",
    "Using partial fractions, we can split the sum and represent it as an integral:\n",
    "$$\\begin{align*}\\sum_{n=0}^\\infty \\frac{(-1)^n (2n+1)}{(2n+1)^2 - a} &= \\sum_{n=0}^\\infty (-1)^n \\left( \\frac{1}{4n+2-2a} + \\frac{1}{4n+2+2a}\\right)\\\\\n",
    "&= \\sum_{n=0}^\\infty (-1)^n \\int_0^1 (x^{4n+1-2a} + x^{4n+1+2a}) dx \\\\\n",
    "&= \\int_0^1 \\left(\\sum_{n=0}^\\infty (-1)^n x^{4n+1}\\right) (x^{2a} + x^{-2a}) dx \\\\\n",
    "&= \\int_0^1 \\frac{x}{1+x^4} (x^{2a} + x^{-2a}) dx = \\int_0^1 \\frac{x^{2a+1}}{1+x^4} dx + \\underbrace{\\int_0^1 \\frac{x^{1-2a}}{1+x^4} dx}_{x'=\\frac{1}{x}, \\; dx=-(x')^{-2} dx'} \\\\\n",
    "&= \\int_0^1 \\frac{x^{2a+1}}{1+x^4} dx + \\int_{x'=\\infty}^{x'=1} \\frac{(x')^{2a-1}}{1+(x')^{-4}} \\cdot \\frac{dx'}{-(x')^2} \\cdot \\frac{x'^2}{x'^2} \\\\\n",
    "&= \\int_0^1 \\frac{x^{2a+1}}{1+x^4} dx + \\int_1^\\infty \\frac{(x')^{2a+1}}{1+x^4} dx' \\\\\n",
    "&= \\int_0^\\infty \\frac{x^{2a+1}}{1+x^4}dx\n",
    "\\end{align*}$$\n",
    "\n",
    "\n",
    "\n",
    "We can evaluate this integral with `sympy`"
   ]
  },
  {
   "cell_type": "code",
   "execution_count": 6,
   "metadata": {},
   "outputs": [
    {
     "data": {
      "text/latex": [
       "$\\displaystyle \\begin{cases} \\frac{\\pi}{4 \\cos{\\left(\\frac{\\pi a}{2} \\right)}} & \\text{for}\\: \\operatorname{re}{\\left(a\\right)} > -1 \\wedge \\operatorname{re}{\\left(a\\right)} < 1 \\\\\\int\\limits_{0}^{\\infty} \\frac{x^{2 a + 1}}{x^{4} + 1}\\, dx & \\text{otherwise} \\end{cases}$"
      ],
      "text/plain": [
       "Piecewise((pi/(4*cos(pi*a/2)), (re(a) > -1) & (re(a) < 1)), (Integral(x**(2*a + 1)/(x**4 + 1), (x, 0, oo)), True))"
      ]
     },
     "execution_count": 6,
     "metadata": {},
     "output_type": "execute_result"
    }
   ],
   "source": [
    "x, a = symbols('x a')\n",
    "sp.integrate(x**(2*a+1) / (1 + x**4), (x, 0, sp.oo))"
   ]
  },
  {
   "cell_type": "markdown",
   "metadata": {},
   "source": [
    "Substituting in $ a = i k $ for some $ k \\in \\mathbb{R}$ , we therefore have:\n",
    "\n",
    "$$\\sum_{n=0}^\\infty \\frac{(-1)^n (2n+1)}{(2n+1)^2 - (ik) ^2} = \\sum_{n=0}^\\infty \\frac{(-1)^n (2n+1)}{(2n+1)^2 + k^2} = \\frac{\\pi}{4 \\cos{\\left(\\frac{\\pi i k}{2}\\right)}} = \\frac{\\pi}{4} \\text{sech}\\left( \\frac{\\pi k}{2}\\right)$$\n",
    "\n",
    "We can also confirm this numerically:"
   ]
  },
  {
   "cell_type": "code",
   "execution_count": 7,
   "metadata": {
    "colab": {
     "base_uri": "https://localhost:8080/",
     "height": 513
    },
    "executionInfo": {
     "elapsed": 1393,
     "status": "ok",
     "timestamp": 1604983927604,
     "user": {
      "displayName": "Husnain Raza",
      "photoUrl": "",
      "userId": "16146658556003895350"
     },
     "user_tz": 360
    },
    "id": "8xkXnhsuQ-s_",
    "outputId": "6eb3f5aa-69fb-4795-c3ed-1b7c26cd0987"
   },
   "outputs": [],
   "source": [
    "import numpy as np\n",
    "from math import pi\n",
    "\n",
    "f = lambda a: sum([pow(-1,n) * (2*n+1) / ((2*n+1)**2 + a**2) for n in range(1000000)])\n",
    "g = lambda a: pi/4 * 1/(np.cosh(pi*a/2))\n",
    "\n",
    "x = np.arange(0, 100)\n",
    "assert np.allclose(f(x), g(x), atol=1e-6)"
   ]
  },
  {
   "cell_type": "markdown",
   "metadata": {
    "id": "igsx-l06CQlI"
   },
   "source": [
    "##### Interlude: Another Weird Sum\n",
    "\n",
    "We now consider the sum \n",
    "$$\\sum_{k=0}^\\infty \\frac{(-1)^k}{2k+1} \\text{sech}\\left(\\pi \\left(k + \\frac{1}{2}\\right)\\right)$$\n",
    "\n",
    "We numerically calculate this sum and use the [PSLQ algorithm](https://en.wikipedia.org/wiki/Integer_relation_algorithm) to identify what its value is."
   ]
  },
  {
   "cell_type": "code",
   "execution_count": 8,
   "metadata": {
    "colab": {
     "base_uri": "https://localhost:8080/",
     "height": 35
    },
    "executionInfo": {
     "elapsed": 384,
     "status": "ok",
     "timestamp": 1606365219652,
     "user": {
      "displayName": "Husnain Raza",
      "photoUrl": "",
      "userId": "16146658556003895350"
     },
     "user_tz": 360
    },
    "id": "Tjp8ZwKefRQh",
    "outputId": "8707e013-a744-43e7-cac2-5812c01bf929"
   },
   "outputs": [
    {
     "data": {
      "text/plain": [
       "'((1/8)*pi)'"
      ]
     },
     "execution_count": 8,
     "metadata": {},
     "output_type": "execute_result"
    }
   ],
   "source": [
    "from math import cosh, pi\n",
    "sech = lambda t: 1/cosh(t)\n",
    "INFINITY = 50\n",
    "\n",
    "from mpmath import identify\n",
    "identify(sum([pow(-1,k)/(2*k+1)*sech(pi*(k+0.5)) for k in range(INFINITY)]),[\"pi\",\"e\"])"
   ]
  },
  {
   "cell_type": "code",
   "execution_count": 9,
   "metadata": {},
   "outputs": [
    {
     "data": {
      "text/plain": [
       "0.0"
      ]
     },
     "execution_count": 9,
     "metadata": {},
     "output_type": "execute_result"
    }
   ],
   "source": [
    "sum([pow(-1,k)/(2*k+1)*sech(pi*(k+0.5)) for k in range(INFINITY)]) - pi/8"
   ]
  },
  {
   "cell_type": "markdown",
   "metadata": {
    "id": "Lg-FlBx0x1sy"
   },
   "source": [
    "We therefore have that\n",
    "\n",
    "$$\\sum_{k=0}^\\infty \\frac{(-1)^k}{2k+1} \\text{sech}\\left(\\pi \\left(k + \\frac{1}{2}\\right)\\right) = \\frac{\\pi}{8}$$ to machine precision.\n",
    "\n",
    "**EXERCISE**: Prove this identity.\n",
    "\n",
    "Going back to our original sum, we have:\n",
    "\n",
    "$$\\begin{align}S &= \\sum_{k, l \\ge 0 } \\frac{\\left(-1\\right)^{k} \\left(-1\\right)^{l} \\left(2 l + 1\\right)}{ \\left(2 k + 1\\right) \\left(\\left(2 k + 1\\right)^{2} + \\left(2 l + 1\\right)^{2}\\right)} \\\\\n",
    "&= \\sum_{k \\ge 0} \\frac{ (-1)^k }{(2k+1)}\\left( \\sum_{l \\ge 0} \\frac{(-1)^l (2l+1)}{(2l+1)^2 + (2k+1)^2} \\right) \\\\\n",
    "&= \\sum_{k \\ge 0} \\frac{ (-1)^k }{(2k+1)}\\left( \\frac{\\pi}{4} \\text{sech}\\left( \\frac{\\pi (2k+1)}{2} \\right) \\right) \\\\\n",
    "&= \\frac{\\pi}{4} \\sum_{k \\ge 0} \\frac{(-1)^k}{2k+1} \\text{sech}\\left(\\pi \\left(k + \\frac{1}{2}\\right)\\right) \\\\\n",
    "&= \\frac{\\pi}{4} \\cdot \\frac{\\pi}{8} = \\frac{\\pi^2}{32}\n",
    "\\end{align}$$\n",
    "\n",
    "We therefore have that the original series for $c(t)$ becomes:\n",
    "\n",
    "$$\\begin{align}\n",
    "c(t) &= \\frac{40}{\\pi^2} \\left( \\frac{\\pi^2}{32} - \\sum_{k,l>0} \\frac{(-1)^{k+l} (2l+1) e^{\\frac{-\\pi^2 t}{4}((2k+1)^2 + (2l+1)^2) }}{(2k+1)((2k+1)^2 + (2l+1)^2)} \\right) \\\\\n",
    "&= \\frac{5}{4} - \\frac{40}{\\pi^2} \\sum_{k,l>0} \\frac{(-1)^{k+l} (2l+1) e^{\\frac{-\\pi^2 t}{4}((2k+1)^2 + (2l+1)^2) }}{(2k+1)((2k+1)^2 + (2l+1)^2)} \n",
    "\\end{align}$$\n",
    "\n",
    "Note that the summand now decays exponentially - therefore, we can expect much better convergence"
   ]
  },
  {
   "cell_type": "code",
   "execution_count": 10,
   "metadata": {
    "colab": {
     "base_uri": "https://localhost:8080/"
    },
    "executionInfo": {
     "elapsed": 25242,
     "status": "ok",
     "timestamp": 1606365915242,
     "user": {
      "displayName": "Husnain Raza",
      "photoUrl": "",
      "userId": "16146658556003895350"
     },
     "user_tz": 360
    },
    "id": "rteIs2JQrQHC",
    "outputId": "c297fedd-3151-4b78-b585-3841cd20cb73"
   },
   "outputs": [
    {
     "name": "stdout",
     "output_type": "stream",
     "text": [
      "0.0\n",
      "1\n",
      "0.80931445650583\n",
      "0.6672977947075767\n",
      "0.012917560648138685\n",
      "0.5699635631325781\n",
      "0.5066108579750871\n",
      "0.3879039493608965\n",
      "0.4315845329426156\n",
      "0.42466744818111046\n",
      "0.4239990812124808\n",
      "0.42401140690307043\n",
      "0.42401138703428987\n",
      "CPU times: user 30.8 s, sys: 28.8 ms, total: 30.9 s\n",
      "Wall time: 31.7 s\n"
     ]
    },
    {
     "data": {
      "text/plain": [
       "      converged: True\n",
       "           flag: 'converged'\n",
       " function_calls: 13\n",
       "     iterations: 12\n",
       "           root: 0.42401138703368835"
      ]
     },
     "execution_count": 10,
     "metadata": {},
     "output_type": "execute_result"
    }
   ],
   "source": [
    "from math import pi, exp\n",
    "from scipy.optimize import root_scalar\n",
    "INFINITY = 1000\n",
    "def u(t):\n",
    "    print(t)\n",
    "    return 5/4 - 40/(pi*pi)*sum([\n",
    "        (-1)**k / (2*k+1) * sum([\n",
    "            (-1)**l * (2*l+1) / ((2*k+1)**2 + (2*l+1)**2) * exp(-pi**2/4*t*((2*k+1)**2 + (2*l+1)**2))\n",
    "        for l in range(INFINITY)])\n",
    "    for k in range(INFINITY)])\n",
    "\n",
    "%time root_scalar(lambda t: u(t)-1, x0=0, x1=1)"
   ]
  },
  {
   "cell_type": "markdown",
   "metadata": {
    "id": "KwYsPt42v-8c"
   },
   "source": [
    "### Reducing Dimensionality of the Problem\n",
    "\n",
    "(Reference note: here, we mostly follow the exposition as used in Bornemann's book, Section 8.3)\n",
    "\n",
    "Firstly, we define some notation\n",
    "*   Let $P := \\{(x,y): -1\\le x,y \\le 1\\}$ be the square plate\n",
    "*   Let $\\partial P = \\{(x,y): x \\in \\{-1,1\\} \\text{ or } y \\in \\{-1,1\\}\\}$ be the boundary of the square plate\n",
    "\n",
    "![Figure 2](media/prob8/fig2.png)\n",
    "\n",
    "Following the exposition in Bornemann's book, we reduce the problem from a two-dimensional one to a one-dimensional one as follows: \n",
    "\n",
    "Note that since we are only asked about the temperature at the center of the plate, we have that we can hold any of the sides of the plate at $u = 5$ and still get the same temperature distribution at the center of the plate.\n",
    "\n",
    "By linearity of these solutions and averaging the solutions where each side is set to $u = 5$, we get that we can also set $u(x,y,t)|_{(x,y) \\in \\partial P}=5/4$ as an equivalent boundary condition to the given problem.\n"
   ]
  },
  {
   "cell_type": "markdown",
   "metadata": {
    "id": "jid1QOnbiqd8"
   },
   "source": [
    "![Figure 3](media/prob8/fig3.png)"
   ]
  },
  {
   "cell_type": "markdown",
   "metadata": {
    "id": "Wlzsup67v-40"
   },
   "source": [
    "Next, let $\\hat{u}(x,y,t) = 5/4 - u(x,y,t)$. \n",
    "\n",
    "Changing our boundary conditions, we have:\n",
    "\n",
    "$$ \\begin{cases} u(x,y,t)|_{(x,y)\\in\\partial{P}} = \\frac{5}{4} \\\\ u|_{t=0} = 0 \\end{cases} \\implies  \\begin{cases}  \\hat{u}(x,y,t)|_{(x,y)\\in\\partial{P}} = 0 \\\\ \\hat{u}|_{t=0} = \\frac{5}{4}  \\end{cases} $$"
   ]
  },
  {
   "cell_type": "markdown",
   "metadata": {},
   "source": [
    "We next use seperation of variables and assume that $\\hat{u}(x,y,t) = f(x,t)f(y,t) $. Substituting back into the original differential equation, we get:\n",
    "\n",
    "$$ \\begin{align}\n",
    "\\frac{\\partial{\\hat{u}}}{\\partial{t}} &= \\frac{\\partial^2{\\hat{u}}}{\\partial x^2} + \\frac{\\partial^2{\\hat{u}}}{\\partial y^2} \\\\\n",
    "\\implies \\frac{\\partial}{\\partial t} \\left( f(x, t) \\cdot f(y,t) \\right) &= \\frac{\\partial^2}{\\partial x^2} \\left( f(x, t) \\cdot f(y,t) \\right) + \\frac{\\partial^2}{\\partial y^2} \\left( f(x, t) \\cdot f(y,t) \\right) \\\\\n",
    "\\implies \\frac{\\partial}{\\partial t} f(x,t) \\cdot f(y,t) + f(x,t) \\cdot \\frac{\\partial}{\\partial t} f(y,t) &= \\frac{\\partial^2}{\\partial x^2} f(x,t) \\cdot f(y,t) + f(x,t) \\cdot \\frac{\\partial^2}{\\partial y^2} f(y,t) \\\\\n",
    "\\implies f(x,t) \\left( \\frac{\\partial}{\\partial t} f(y,t) - \\frac{\\partial^2}{\\partial y^2} f(y,t)\\right) + f(y,t) \\left(\\frac{\\partial}{\\partial t} f(x,t) - \\frac{\\partial^2}{\\partial x^2} f(x,t)  \\right) &= 0\n",
    "\\end{align}$$\n",
    "\n",
    "Note that since $f$ is non-zero, we therefore must have that $\\frac{\\partial}{\\partial t} f(x,t) = \\frac{\\partial^2}{\\partial x^2} f(x,t)$. \n",
    "\n",
    "To make some of the working out nicer, we shift the $x$ interval to be $[0,2]$. We therefore have the following boundary conditions: \n",
    "\n",
    "$$ f(0, t) = f(2, t) = 0 \\\\ f(x, 0) = \\sqrt{\\frac{5}{4}}$$\n",
    "\n",
    "To solve our given problem, we attempt to find a time $\\hat{t}$ such that $ f(1, \\hat{t}) = \\sqrt{\\frac{5}{4} - 1} = \\frac{1}{2} $.\n",
    "\n",
    "We proceed with the standard method of solving this PDE; we use separation of variables again and assume that $f(x,t) = X(x)T(t)$. Therefore, we have:\n",
    "\n",
    "$$\\frac{T'}{T} = \\frac{X''}{X} = k \\implies \\cases{T' = kT \\\\ X'' = k X } $$\n",
    "\n",
    "\n",
    "Note that $k \\not< 0$ as if so, we would have $X'' = kX \\implies X = c_1 e^{\\sqrt{k}x} + c_2 e^{-\\sqrt{k}x}$ for some arbitrary $c_1, c_2 \\in \\mathbb{R}$. \n",
    "\n",
    "Solving the boundary conditions, we get that $\\begin{cases} c_1 + c_2 = 0 \\\\ c_1 e^{2 \\sqrt{k}} + c_2 e^{-2\\sqrt{k}} = 0  \\end{cases} \\implies c_1 = c_2 = 0 $ yielding a trivial solution. \n",
    "\n",
    "We also have $k \\ne 0$ as if so, we would have $X'' = 0 \\implies X = c_1 x + c_2$. \n",
    "\n",
    "Solving for the boundary conditions again, we get $\\begin{cases} c_2 = 0 \\\\ c_1 \\cdot 2 + c_2 = 0 \\end{cases} \\implies c_1 = c_2 = 0$ again yielding a trivial solution.\n",
    "\n",
    "Therefore, we have that $ k < 0 $ and so we write $k = - \\lambda ^2 $. We get\n",
    "\n",
    "$$ T'(t) = -\\lambda^2 T(t) \\implies T(t) = c e^{-\\lambda^2 t} \\\\ X''(x) = -\\lambda^2 X(x) \\implies X(x) = c_1 \\cos{(\\lambda x)} + c_2 \\sin{(\\lambda x)} $$\n",
    "\n",
    "Note that we have that $f(0, t) = f(2, t) = 0 \\implies X(0) = X(2) = 0$. We solve for these boundary conditions:\n",
    "\n",
    "$$ 0 = X(0) = c_1 \\cos{(\\lambda x)} \\implies c_1 = 0 \\\\ 0 = X(2) = c_2 \\sin{(2 \\lambda)} \\implies \\lambda = \\frac{\\pi n}{2}, n \\in \\mathbb{Z} $$.\n",
    "\n",
    "We therefore have a Fourier series expansion for $f$:\n",
    "\n",
    "$$ f(x,t) = \\sum_{n \\ge 0} c_n \\sin{\\left( \\frac{\\pi n x}{2}\\right)} e^{-\\frac{\\pi^2 n^2 t}{4}} $$\n",
    "\n",
    "We use the last boundary condition $f(x, 0) = \\frac{\\sqrt{5}}{2} $ to get the form of the coefficients $c_n$\n",
    "\n",
    "$$ \\begin{align}\n",
    "f(x, 0) = \\frac{\\sqrt{5}}{2} &= \\sum_{n \\ge 0} c_n \\sin{\\left( \\frac{\\pi n x}{2}\\right)} \\\\\n",
    "\\implies \\int_0^2 \\sin{\\left(\\frac{\\pi m x}{2}\\right)} \\cdot  \\frac{\\sqrt{5}}{2} dx &= \\int_0^2 \\sum_{n \\ge 0} c_n \\sin{\\left( \\frac{\\pi n x}{2}\\right)} \\sin{\\left(\\frac{\\pi m x}{2}\\right)} dx & (m \\in \\mathbb{Z} )\\\\\n",
    "\\implies \\frac{\\sqrt{5}}{2} \\cdot \\frac{2 - 2 \\cos{(m \\pi)}}{m \\pi} &= \\sum_{n \\ge 0} c_n \\left( \\int_0^2 \\sin{\\left( \\frac{\\pi n x}{2}\\right)} \\sin{\\left(\\frac{\\pi m x}{2}\\right)} dx \\right) = \\sum_{n \\ge 0} c_n \\delta_{mn} = c_m\n",
    "\\end{align} $$\n",
    "\n",
    "We can simplify this further as $m$ is an integer"
   ]
  },
  {
   "cell_type": "code",
   "execution_count": 11,
   "metadata": {},
   "outputs": [
    {
     "data": {
      "text/latex": [
       "$\\displaystyle \\frac{\\sqrt{5} \\cdot \\left(1 - \\left(-1\\right)^{m}\\right)}{\\pi m}$"
      ],
      "text/plain": [
       "sqrt(5)*(1 - (-1)**m)/(pi*m)"
      ]
     },
     "execution_count": 11,
     "metadata": {},
     "output_type": "execute_result"
    }
   ],
   "source": [
    "m = symbols('m', integer=True, positive=True)\n",
    "sp.simplify(sp.sqrt(5)/2 * (2 - 2*sp.cos(m*sp.pi)) / (m*sp.pi) )"
   ]
  },
  {
   "cell_type": "markdown",
   "metadata": {},
   "source": [
    "Note that we have that $c_n = 0$ when $n$ is even. We can therefore sum over odd $n$ - our sum therefore becomes:\n",
    "\n",
    "$$  f(x,t) = \\sum_{n \\ge 0}  \\frac{2 \\sqrt{5}}{(2n+1)\\pi} \\sin{\\left( \\frac{\\pi (2n+1) x}{2}\\right)} e^{-\\frac{\\pi^2 (2n+1)^2 t}{4}}  $$\n",
    "\n",
    "Substituting in $x = 1$, we have:\n",
    "\n",
    "$$ f(1,t) = \\sum_{n \\ge 0}  \\frac{2 \\sqrt{5}}{(2n+1)\\pi} \\sin{\\left( \\frac{\\pi (2n+1) }{2}\\right)} e^{-\\frac{\\pi^2 (2n+1)^2 t}{4}} = \\frac{2 \\sqrt{5}}{\\pi} \\sum_{n \\ge 0} \\frac{(-1)^n}{2n+1} e^{-\\frac{\\pi^2 (2n+1)^2 t}{4}} $$\n",
    "\n",
    "Here, the summand exponentially decays and therefore converges quickly enough for a few terms of the series to be accurate to 10 digits."
   ]
  },
  {
   "cell_type": "code",
   "execution_count": 12,
   "metadata": {
    "colab": {
     "base_uri": "https://localhost:8080/"
    },
    "executionInfo": {
     "elapsed": 357,
     "status": "ok",
     "timestamp": 1606372902869,
     "user": {
      "displayName": "Husnain Raza",
      "photoUrl": "",
      "userId": "16146658556003895350"
     },
     "user_tz": 360
    },
    "id": "M2XknC8C-DNY",
    "outputId": "62554b42-70a3-4a89-dc48-39ea143821bc"
   },
   "outputs": [
    {
     "name": "stdout",
     "output_type": "stream",
     "text": [
      "0.0\n",
      "1\n",
      "0.6196861810476065\n",
      "0.47311706041063817\n",
      "0.41092732500494633\n",
      "0.42481180111746225\n",
      "0.42402416446409813\n",
      "0.42401137448203585\n",
      "CPU times: user 120 ms, sys: 4 µs, total: 120 ms\n",
      "Wall time: 123 ms\n"
     ]
    },
    {
     "data": {
      "text/plain": [
       "      converged: True\n",
       "           flag: 'converged'\n",
       " function_calls: 8\n",
       "     iterations: 7\n",
       "           root: 0.42401138703388525"
      ]
     },
     "execution_count": 12,
     "metadata": {},
     "output_type": "execute_result"
    }
   ],
   "source": [
    "from math import sqrt, exp, pi\n",
    "from scipy.optimize import root_scalar\n",
    "INFINITY = 10000\n",
    "\n",
    "# mp.dps = 500\n",
    "def u(t):\n",
    "    print(t)\n",
    "    return 2*sqrt(5)/pi * sum([(-1)**n/(2*n+1) * exp(-pi**2/4 * t * (2*n+1)**2) for n in range(INFINITY)])\n",
    "\n",
    "%time root_scalar(lambda t: u(t)-0.5, x0=0, x1=1)"
   ]
  },
  {
   "cell_type": "markdown",
   "metadata": {},
   "source": [
    "We can also use the `mpmath` module for extended precision to get 500 digits of the answer quite readily:"
   ]
  },
  {
   "cell_type": "code",
   "execution_count": 13,
   "metadata": {
    "colab": {
     "base_uri": "https://localhost:8080/"
    },
    "executionInfo": {
     "elapsed": 70222,
     "status": "ok",
     "timestamp": 1606373073701,
     "user": {
      "displayName": "Husnain Raza",
      "photoUrl": "",
      "userId": "16146658556003895350"
     },
     "user_tz": 360
    },
    "id": "L1nEJN0kPdm-",
    "outputId": "0e9e316a-6c07-4b6c-ce5f-46de777acd4e"
   },
   "outputs": [
    {
     "name": "stdout",
     "output_type": "stream",
     "text": [
      "0.0\n",
      "0.0\n",
      "0.25\n",
      "0.43934109472574682668880049938503989160434623387538613200060324940723787441601500571568271794073824652171961416551210712507606924948925285259438255801702120721862615013030594161966491344079392583485266383362673761156277257467011140259911353838551977483721051550987346005277089932409405387264513636970063126153178059055638997322619968704735212080947208091087926709767423829277515642276289981793769004236636308318209196010275914586207178585979383540811153231625582517348634158624841985322192569304588845865559\n",
      "0.42701346573100667485224916996780080239496058591295341453093847547868585857674020465193968273312388663156895701532827537617752715418002922253473164413605397799929739481547743867736365778841996429805640389934203153348317251502698051437162491974088462539947604831294916452923083230704569879621033086166424042960299196606439443799373324353203840399720013310242495397757516141378769887895833935666325720536591352313646444952239031200378678127638355369632768942662268844645392565401101536150973329906291068940554\n",
      "0.42395446662221645806757903878244711928459682005363804295161575401597481681617804869986805735881721003735936067111624560738587934934003895989193817823594189753758288815788718915896523892835114313289222085546309296136625440124680193151850397230121393413989553484456279227132851213392940349546505507521555537012256074259712813597484899055775422791385752876833641339249459577523115680408457691419395213633297414257202186760224903827790396164747307061436083937023129023684497128386368839458663160704858913338117\n",
      "0.42401159694922605323060635277304681201269520788950286061062089056465483260685757833546303504640437245930873993435687319504609518261014564285095002597485920674694347374501820973240019989773307081663996416127177227123219099698258051186206962170531161745055442328557996558685699323670803460831318246627628956309936777612390682856648765491767275783846548746112442930258296435755457194420444904346378546269401323070856756130908633720381778004531653310950958589888149431403453412791311466230170443054684676930726\n",
      "0.42401138704834677584367919918116337312839892872216855348750801599838612017127293356837844520553370434615945593062202458680256473939102255168235062472051816334126830427870735682286827998493786104592107643751603580109269812163830672934784154038917560842073104817687482220084969207089681487075138934029688580902394959513370199967008143934446645242305408623006650053389036624676703855206524809319589423121301088955806635082872329754380981049989883059508556101501262712643314530955671062726128251674885708570609\n",
      "0.42401138703368836002243466926331400028367632983462601123052148877056388837187306546523017098557792397871648160479443835017084510595580600279960957824733236616044022652284143485765516772509828872837270137527606495230044696492115029708463851348718578864498193592729161700695647202150884382974900679405262152387308677242652867701990185440959770637333179866646688095872913511861681671779015573940279679835766753599854268030875025577148187547585185160920721045659497659413348033475975642818593377590825782856968\n",
      "0.4240113870336883637974336686611438323735726549041906347844528001184961873048439981528517004973467301558082898586233786556338114897501809803076647229466569044186975965368832766083168996977389604583221325938739751779282348345690183322761591090879535069834425223637346663823010977054691865478635159947302310359525034882118377847042934555826810720420635467175173768075493797865520620497440332763937272316501630207179039809612307712121275235880330856949721398520172253579824544830994699654739016685740028399005\n",
      "0.42401138703368836379743366859325645124776209097868102268092610892920210814523013654563379076068375991983155634698337451199446253538443682740565223939175567165218957823184640728410729887964253133349151618564589937625308112845778096892528024774161801712026453882922545598398112259126184785521458919978038293367926422109061978650350055421166512318620463529473619706659801186742508622148336049480814885101181899511556164519414815175279752224146590871786847826996204244833570115439441017023259836402567578671501\n",
      "0.42401138703368836379743366859325645124776209066427476219711249591331017693137791141369694000439233030184100042244600429900031687702302616573304533476166363896324116176014636774884071316855686496402090774761009686525564509627594140324967950399370871700568942179898953262382717686188094894648137329415559057886993106582951992257036305221631236305371641971531732195619041017877869850965588216741751089643052953626513619346016717580414131922061964946014161830542720836944449267466748088908208936303321063435872\n",
      "0.42401138703368836379743366859325645124776209066427476219711249591331017695756369229707244229447701122202408200864627951187000693201191463095941383767187589984163867623923095455862664892545488676609845415541296771830637695070182055271491057446465858722001983304645342737428739237897195979980219478761929486067429602533862710044648663889739160568574682279949489184320082293241631241337622752405991079382504446003568621552902268516107961273305978567698161165917067911025331093345500361453801493810580764229602\n",
      "0.42401138703368836379743366859325645124776209066427476219711249591331017695756369229707244229447701122202408200864627950176952715063094132933531748486364946855119847505425770123915415224176448563577898861112251763831846035245656700348254668070524046496608994822209281649398372397583572015653979147338182664304739324951348682272649712770305472589630211185755641755991502984883164437843964336978655269247525720986926331031766294585580628911815846003035126133718741400982754064118984081246209177638803931561723\n",
      "0.42401138703368836379743366859325645124776209066427476219711249591331017695756369229707244229447701122202408200864627950176952715063094132933531748486364946855119847505425770123915415224176448531129533597298412346638387467712281173756363541490214501680915282853188397676800263740142602257158142280170819307091049888755539893057086262112717863920653934894132595010749219846524177389130395427081760718027264643718324514994084927233013456873044220573903643111326550926363355751586233191029038363360679530952726\n",
      "0.42401138703368836379743366859325645124776209066427476219711249591331017695756369229707244229447701122202408200864627950176952715063094132933531748486364946855119847505425770123915415224176448531129533597298412346638387467712281173756363541490214501680915282853188397676800263740142602257158142280170819307091050290842616456937655839085278519925140012274453958629356567292414642637482069027100789622198416106503372714908908842164423214864734645931255854155865918629116319808287919789952186733946840728036171\n",
      "0.42401138703368836379743366859325645124776209066427476219711249591331017695756369229707244229447701122202408200864627950176952715063094132933531748486364946855119847505425770123915415224176448531129533597298412346638387467712281173756363541490214501680915282853188397676800263740142602257158142280170819307091050290842616456937655839085278519925140012274453958629356567292414642637482069027100789622198416106503372714908908842164423214864734645931255854155865918629116319808287919789952186733946840728036011\n",
      "0.42401138703368836379743366859325645124776209066427476219711249591331017695756369229707244229447701122202408200864627950176952715063094132933531748486364946855119847505425770123915415224176448531129533597298412346638387467712281173756363541490214501680915282853188397676800263740142602257158142280170819307091050290842616456937655839085278519925140012274453958629356567292414642637482069027100789622198416106503372714908908842164423214864734645931255854155865918629116319808287919789952186733946840728036011\n",
      "CPU times: user 1min 13s, sys: 260 ms, total: 1min 13s\n",
      "Wall time: 1min 13s\n"
     ]
    },
    {
     "data": {
      "text/plain": [
       "mpf('0.42401138703368836379743366859325645124776209066427476219711249591331017695756369229707244229447701122202408200864627950176952715063094132933531748486364946855119847505425770123915415224176448531129533597298412346638387467712281173756363541490214501680915282853188397676800263740142602257158142280170819307091050290842616456937655839085278519925140012274453958629356567292414642637482069027100789622198416106503372714908908842164423214864734645931255854155865918629116319808287919789952186733946840728036')"
      ]
     },
     "execution_count": 13,
     "metadata": {},
     "output_type": "execute_result"
    }
   ],
   "source": [
    "from mpmath import mp, nsum, findroot\n",
    "import mpmath\n",
    "mp.dps = 500\n",
    "K = 2*mpmath.sqrt(5)/mpmath.pi\n",
    "def u(t):\n",
    "    print(t)\n",
    "    return K * nsum(lambda n: (-1)**n/(2*n+1) * mpmath.exp(-mpmath.pi**2/4 * t * (2*n+1)**2), [0, mpmath.inf])\n",
    "%time findroot(lambda t: u(t)-0.5, 0)"
   ]
  }
 ],
 "metadata": {
  "colab": {
   "authorship_tag": "ABX9TyMYnQ19Ml7BNtoJ5dpDnUdJ",
   "name": "Problem 8",
   "provenance": []
  },
  "kernelspec": {
   "display_name": "Python 3 (ipykernel)",
   "language": "python",
   "name": "python3"
  },
  "language_info": {
   "codemirror_mode": {
    "name": "ipython",
    "version": 3
   },
   "file_extension": ".py",
   "mimetype": "text/x-python",
   "name": "python",
   "nbconvert_exporter": "python",
   "pygments_lexer": "ipython3",
   "version": "3.10.6"
  }
 },
 "nbformat": 4,
 "nbformat_minor": 1
}
